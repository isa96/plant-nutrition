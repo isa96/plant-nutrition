{
 "cells": [
  {
   "attachments": {},
   "cell_type": "markdown",
   "metadata": {},
   "source": [
    "# Plant Nutrition Prediction with Supervised Machine Learning"
   ]
  },
  {
   "attachments": {},
   "cell_type": "markdown",
   "metadata": {},
   "source": [
    "- Objective : \n",
    "    \n",
    "    1. Mengetahui variabel yang paling berpengaruh terhadap nutrisi tanaman\n",
    "    2. Mengetahui hubungan antar variabel \n",
    "    3. Membuat, menguji dan memilih model yang memiliki performa optimal untuk mem-prediksi nutrisi tanaman dengan 8 variabel yang tersedia\n",
    "    4. Menyajikan *continuous improvement*, baik dari segi model maupun dari segi bisnis\n"
   ]
  },
  {
   "cell_type": "code",
   "execution_count": 1,
   "metadata": {},
   "outputs": [],
   "source": [
    "# Library Pengolahan Data\n",
    "import numpy as np\n",
    "import pandas as pd\n",
    "\n",
    "# Library Visualisasi\n",
    "import matplotlib.pyplot as plt\n",
    "import seaborn as sns\n",
    "\n",
    "# Library Split Test dan Train\n",
    "from sklearn.model_selection import train_test_split\n",
    "\n",
    "# Library Pipeline\n",
    "from sklearn.pipeline import Pipeline\n",
    "\n",
    "# Library Scaling dan Encoding \n",
    "from sklearn.preprocessing import LabelEncoder\n",
    "from sklearn.preprocessing import RobustScaler\n",
    "from sklearn.compose import ColumnTransformer\n",
    "\n",
    "# Library Model\n",
    "from sklearn.linear_model import LinearRegression\n",
    "from sklearn.neighbors import KNeighborsRegressor\n",
    "from sklearn.svm import SVR\n",
    "from sklearn.linear_model import BayesianRidge\n",
    "from sklearn.tree import DecisionTreeRegressor\n",
    "from sklearn.ensemble import RandomForestRegressor\n",
    "from sklearn.ensemble import GradientBoostingRegressor\n",
    "from sklearn.ensemble import AdaBoostRegressor\n",
    "\n",
    "# Library Parameter Tuning\n",
    "from sklearn.model_selection import GridSearchCV\n",
    "\n",
    "# Library Evaluasi\n",
    "from sklearn.metrics import mean_absolute_error\n",
    "from sklearn.model_selection import cross_val_score\n",
    "\n",
    "# Library Feature Selection\n",
    "from sklearn.feature_selection import SelectKBest\n",
    "from sklearn.feature_selection import f_classif\n",
    "\n",
    "# Library Saving Model\n",
    "import pickle \n",
    "\n",
    "# Library Balancing\n",
    "import smogn"
   ]
  },
  {
   "cell_type": "code",
   "execution_count": 2,
   "metadata": {},
   "outputs": [],
   "source": [
    "# Load data dengan pandas dan assign ke variabel df\n",
    "df = pd.read_excel('aria_data.xlsx')"
   ]
  },
  {
   "cell_type": "code",
   "execution_count": 3,
   "metadata": {},
   "outputs": [
    {
     "data": {
      "text/html": [
       "<div>\n",
       "<style scoped>\n",
       "    .dataframe tbody tr th:only-of-type {\n",
       "        vertical-align: middle;\n",
       "    }\n",
       "\n",
       "    .dataframe tbody tr th {\n",
       "        vertical-align: top;\n",
       "    }\n",
       "\n",
       "    .dataframe thead th {\n",
       "        text-align: right;\n",
       "    }\n",
       "</style>\n",
       "<table border=\"1\" class=\"dataframe\">\n",
       "  <thead>\n",
       "    <tr style=\"text-align: right;\">\n",
       "      <th></th>\n",
       "      <th>target</th>\n",
       "      <th>v1</th>\n",
       "      <th>v2</th>\n",
       "      <th>v3</th>\n",
       "      <th>v4</th>\n",
       "      <th>v5</th>\n",
       "      <th>v6</th>\n",
       "      <th>v7</th>\n",
       "      <th>v8</th>\n",
       "      <th>sample_type</th>\n",
       "    </tr>\n",
       "  </thead>\n",
       "  <tbody>\n",
       "    <tr>\n",
       "      <th>0</th>\n",
       "      <td>4.63</td>\n",
       "      <td>260.600000</td>\n",
       "      <td>199.000000</td>\n",
       "      <td>391.333333</td>\n",
       "      <td>371.733333</td>\n",
       "      <td>466.800000</td>\n",
       "      <td>273.133333</td>\n",
       "      <td>742.066667</td>\n",
       "      <td>4047.733333</td>\n",
       "      <td>lab 1</td>\n",
       "    </tr>\n",
       "    <tr>\n",
       "      <th>1</th>\n",
       "      <td>5.00</td>\n",
       "      <td>263.200000</td>\n",
       "      <td>194.600000</td>\n",
       "      <td>393.666667</td>\n",
       "      <td>348.533333</td>\n",
       "      <td>401.800000</td>\n",
       "      <td>220.066667</td>\n",
       "      <td>712.000000</td>\n",
       "      <td>4673.466667</td>\n",
       "      <td>lab 1</td>\n",
       "    </tr>\n",
       "    <tr>\n",
       "      <th>2</th>\n",
       "      <td>4.91</td>\n",
       "      <td>247.266667</td>\n",
       "      <td>205.800000</td>\n",
       "      <td>375.466667</td>\n",
       "      <td>354.866667</td>\n",
       "      <td>419.000000</td>\n",
       "      <td>222.133333</td>\n",
       "      <td>677.200000</td>\n",
       "      <td>4386.800000</td>\n",
       "      <td>lab 1</td>\n",
       "    </tr>\n",
       "    <tr>\n",
       "      <th>3</th>\n",
       "      <td>4.77</td>\n",
       "      <td>257.944444</td>\n",
       "      <td>191.833333</td>\n",
       "      <td>368.722222</td>\n",
       "      <td>334.666667</td>\n",
       "      <td>417.222222</td>\n",
       "      <td>195.944444</td>\n",
       "      <td>678.555556</td>\n",
       "      <td>4588.777778</td>\n",
       "      <td>lab 1</td>\n",
       "    </tr>\n",
       "    <tr>\n",
       "      <th>4</th>\n",
       "      <td>4.89</td>\n",
       "      <td>258.200000</td>\n",
       "      <td>195.733333</td>\n",
       "      <td>356.666667</td>\n",
       "      <td>333.333333</td>\n",
       "      <td>394.600000</td>\n",
       "      <td>196.000000</td>\n",
       "      <td>677.133333</td>\n",
       "      <td>4867.066667</td>\n",
       "      <td>lab 1</td>\n",
       "    </tr>\n",
       "  </tbody>\n",
       "</table>\n",
       "</div>"
      ],
      "text/plain": [
       "   target          v1          v2          v3          v4          v5  \\\n",
       "0    4.63  260.600000  199.000000  391.333333  371.733333  466.800000   \n",
       "1    5.00  263.200000  194.600000  393.666667  348.533333  401.800000   \n",
       "2    4.91  247.266667  205.800000  375.466667  354.866667  419.000000   \n",
       "3    4.77  257.944444  191.833333  368.722222  334.666667  417.222222   \n",
       "4    4.89  258.200000  195.733333  356.666667  333.333333  394.600000   \n",
       "\n",
       "           v6          v7           v8 sample_type  \n",
       "0  273.133333  742.066667  4047.733333       lab 1  \n",
       "1  220.066667  712.000000  4673.466667       lab 1  \n",
       "2  222.133333  677.200000  4386.800000       lab 1  \n",
       "3  195.944444  678.555556  4588.777778       lab 1  \n",
       "4  196.000000  677.133333  4867.066667       lab 1  "
      ]
     },
     "execution_count": 3,
     "metadata": {},
     "output_type": "execute_result"
    }
   ],
   "source": [
    "# Menampilkan 5 data teratas\n",
    "df.head()"
   ]
  },
  {
   "cell_type": "code",
   "execution_count": 4,
   "metadata": {},
   "outputs": [
    {
     "data": {
      "text/html": [
       "<div>\n",
       "<style scoped>\n",
       "    .dataframe tbody tr th:only-of-type {\n",
       "        vertical-align: middle;\n",
       "    }\n",
       "\n",
       "    .dataframe tbody tr th {\n",
       "        vertical-align: top;\n",
       "    }\n",
       "\n",
       "    .dataframe thead th {\n",
       "        text-align: right;\n",
       "    }\n",
       "</style>\n",
       "<table border=\"1\" class=\"dataframe\">\n",
       "  <thead>\n",
       "    <tr style=\"text-align: right;\">\n",
       "      <th></th>\n",
       "      <th>target</th>\n",
       "      <th>v1</th>\n",
       "      <th>v2</th>\n",
       "      <th>v3</th>\n",
       "      <th>v4</th>\n",
       "      <th>v5</th>\n",
       "      <th>v6</th>\n",
       "      <th>v7</th>\n",
       "      <th>v8</th>\n",
       "      <th>sample_type</th>\n",
       "    </tr>\n",
       "  </thead>\n",
       "  <tbody>\n",
       "    <tr>\n",
       "      <th>155</th>\n",
       "      <td>4.83</td>\n",
       "      <td>573.2500</td>\n",
       "      <td>361.250000</td>\n",
       "      <td>643.125000</td>\n",
       "      <td>489.812500</td>\n",
       "      <td>666.875</td>\n",
       "      <td>355.250000</td>\n",
       "      <td>712.312500</td>\n",
       "      <td>3943.687500</td>\n",
       "      <td>lab 2</td>\n",
       "    </tr>\n",
       "    <tr>\n",
       "      <th>156</th>\n",
       "      <td>4.47</td>\n",
       "      <td>678.3750</td>\n",
       "      <td>398.125000</td>\n",
       "      <td>678.250000</td>\n",
       "      <td>541.125000</td>\n",
       "      <td>704.000</td>\n",
       "      <td>393.500000</td>\n",
       "      <td>788.812500</td>\n",
       "      <td>3928.187500</td>\n",
       "      <td>lab 2</td>\n",
       "    </tr>\n",
       "    <tr>\n",
       "      <th>157</th>\n",
       "      <td>4.63</td>\n",
       "      <td>634.0000</td>\n",
       "      <td>382.866667</td>\n",
       "      <td>657.466667</td>\n",
       "      <td>505.066667</td>\n",
       "      <td>719.200</td>\n",
       "      <td>366.600000</td>\n",
       "      <td>792.133333</td>\n",
       "      <td>3861.200000</td>\n",
       "      <td>lab 2</td>\n",
       "    </tr>\n",
       "    <tr>\n",
       "      <th>158</th>\n",
       "      <td>4.35</td>\n",
       "      <td>615.3125</td>\n",
       "      <td>366.750000</td>\n",
       "      <td>642.937500</td>\n",
       "      <td>483.687500</td>\n",
       "      <td>675.625</td>\n",
       "      <td>359.062500</td>\n",
       "      <td>730.125000</td>\n",
       "      <td>3859.062500</td>\n",
       "      <td>lab 2</td>\n",
       "    </tr>\n",
       "    <tr>\n",
       "      <th>159</th>\n",
       "      <td>4.43</td>\n",
       "      <td>575.2000</td>\n",
       "      <td>350.266667</td>\n",
       "      <td>648.333333</td>\n",
       "      <td>495.400000</td>\n",
       "      <td>679.800</td>\n",
       "      <td>346.266667</td>\n",
       "      <td>718.733333</td>\n",
       "      <td>3903.333333</td>\n",
       "      <td>lab 2</td>\n",
       "    </tr>\n",
       "  </tbody>\n",
       "</table>\n",
       "</div>"
      ],
      "text/plain": [
       "     target        v1          v2          v3          v4       v5  \\\n",
       "155    4.83  573.2500  361.250000  643.125000  489.812500  666.875   \n",
       "156    4.47  678.3750  398.125000  678.250000  541.125000  704.000   \n",
       "157    4.63  634.0000  382.866667  657.466667  505.066667  719.200   \n",
       "158    4.35  615.3125  366.750000  642.937500  483.687500  675.625   \n",
       "159    4.43  575.2000  350.266667  648.333333  495.400000  679.800   \n",
       "\n",
       "             v6          v7           v8 sample_type  \n",
       "155  355.250000  712.312500  3943.687500       lab 2  \n",
       "156  393.500000  788.812500  3928.187500       lab 2  \n",
       "157  366.600000  792.133333  3861.200000       lab 2  \n",
       "158  359.062500  730.125000  3859.062500       lab 2  \n",
       "159  346.266667  718.733333  3903.333333       lab 2  "
      ]
     },
     "execution_count": 4,
     "metadata": {},
     "output_type": "execute_result"
    }
   ],
   "source": [
    "# Menampilkan 5 data terakhir\n",
    "df.tail()"
   ]
  },
  {
   "cell_type": "code",
   "execution_count": 5,
   "metadata": {},
   "outputs": [
    {
     "data": {
      "text/plain": [
       "0"
      ]
     },
     "execution_count": 5,
     "metadata": {},
     "output_type": "execute_result"
    }
   ],
   "source": [
    "# Cek data yang duplikat dengan .duplicate().sum()\n",
    "df.duplicated().sum()"
   ]
  },
  {
   "cell_type": "code",
   "execution_count": 6,
   "metadata": {},
   "outputs": [
    {
     "name": "stdout",
     "output_type": "stream",
     "text": [
      "<class 'pandas.core.frame.DataFrame'>\n",
      "RangeIndex: 160 entries, 0 to 159\n",
      "Data columns (total 10 columns):\n",
      " #   Column       Non-Null Count  Dtype  \n",
      "---  ------       --------------  -----  \n",
      " 0   target       160 non-null    float64\n",
      " 1   v1           160 non-null    float64\n",
      " 2   v2           160 non-null    float64\n",
      " 3   v3           160 non-null    float64\n",
      " 4   v4           160 non-null    float64\n",
      " 5   v5           160 non-null    float64\n",
      " 6   v6           160 non-null    float64\n",
      " 7   v7           160 non-null    float64\n",
      " 8   v8           160 non-null    float64\n",
      " 9   sample_type  160 non-null    object \n",
      "dtypes: float64(9), object(1)\n",
      "memory usage: 12.6+ KB\n"
     ]
    }
   ],
   "source": [
    "# Mengecek informasi dataset dengan .info\n",
    "df.info()"
   ]
  },
  {
   "attachments": {},
   "cell_type": "markdown",
   "metadata": {},
   "source": [
    "Dari informasi diatas dapat disimpulkan bahwa :\n",
    "- Dataset terdiri dari 160 data\n",
    "- Tidak terdapat *null values* pada dataset\n",
    "- Terdapat 9 *feature numerical* (1 target, 8 variabel) dan 1 *feature categorical nominal* (lab)"
   ]
  },
  {
   "cell_type": "code",
   "execution_count": 7,
   "metadata": {},
   "outputs": [],
   "source": [
    "# Copy dataset ke variabel df_eda\n",
    "df_eda = df.copy()"
   ]
  },
  {
   "cell_type": "code",
   "execution_count": 8,
   "metadata": {},
   "outputs": [
    {
     "data": {
      "text/html": [
       "<div>\n",
       "<style scoped>\n",
       "    .dataframe tbody tr th:only-of-type {\n",
       "        vertical-align: middle;\n",
       "    }\n",
       "\n",
       "    .dataframe tbody tr th {\n",
       "        vertical-align: top;\n",
       "    }\n",
       "\n",
       "    .dataframe thead th {\n",
       "        text-align: right;\n",
       "    }\n",
       "</style>\n",
       "<table border=\"1\" class=\"dataframe\">\n",
       "  <thead>\n",
       "    <tr style=\"text-align: right;\">\n",
       "      <th></th>\n",
       "      <th>count</th>\n",
       "      <th>mean</th>\n",
       "      <th>std</th>\n",
       "      <th>min</th>\n",
       "      <th>25%</th>\n",
       "      <th>50%</th>\n",
       "      <th>75%</th>\n",
       "      <th>max</th>\n",
       "    </tr>\n",
       "  </thead>\n",
       "  <tbody>\n",
       "    <tr>\n",
       "      <th>target</th>\n",
       "      <td>160.0</td>\n",
       "      <td>4.733750</td>\n",
       "      <td>0.214050</td>\n",
       "      <td>4.130000</td>\n",
       "      <td>4.600000</td>\n",
       "      <td>4.720000</td>\n",
       "      <td>4.890000</td>\n",
       "      <td>5.260000</td>\n",
       "    </tr>\n",
       "    <tr>\n",
       "      <th>v1</th>\n",
       "      <td>160.0</td>\n",
       "      <td>389.892437</td>\n",
       "      <td>148.673511</td>\n",
       "      <td>227.285714</td>\n",
       "      <td>268.608333</td>\n",
       "      <td>295.162500</td>\n",
       "      <td>536.409375</td>\n",
       "      <td>678.375000</td>\n",
       "    </tr>\n",
       "    <tr>\n",
       "      <th>v2</th>\n",
       "      <td>160.0</td>\n",
       "      <td>237.442677</td>\n",
       "      <td>70.128690</td>\n",
       "      <td>178.800000</td>\n",
       "      <td>194.029018</td>\n",
       "      <td>204.187500</td>\n",
       "      <td>244.716667</td>\n",
       "      <td>422.812500</td>\n",
       "    </tr>\n",
       "    <tr>\n",
       "      <th>v3</th>\n",
       "      <td>160.0</td>\n",
       "      <td>480.573041</td>\n",
       "      <td>118.798984</td>\n",
       "      <td>348.933333</td>\n",
       "      <td>384.419643</td>\n",
       "      <td>414.383929</td>\n",
       "      <td>591.611404</td>\n",
       "      <td>722.312500</td>\n",
       "    </tr>\n",
       "    <tr>\n",
       "      <th>v4</th>\n",
       "      <td>160.0</td>\n",
       "      <td>394.109622</td>\n",
       "      <td>63.060442</td>\n",
       "      <td>313.733333</td>\n",
       "      <td>353.181250</td>\n",
       "      <td>370.741667</td>\n",
       "      <td>424.131250</td>\n",
       "      <td>558.500000</td>\n",
       "    </tr>\n",
       "    <tr>\n",
       "      <th>v5</th>\n",
       "      <td>160.0</td>\n",
       "      <td>487.316520</td>\n",
       "      <td>100.941711</td>\n",
       "      <td>373.333333</td>\n",
       "      <td>418.583333</td>\n",
       "      <td>456.031250</td>\n",
       "      <td>496.475000</td>\n",
       "      <td>721.000000</td>\n",
       "    </tr>\n",
       "    <tr>\n",
       "      <th>v6</th>\n",
       "      <td>160.0</td>\n",
       "      <td>251.450820</td>\n",
       "      <td>59.634652</td>\n",
       "      <td>189.200000</td>\n",
       "      <td>213.000000</td>\n",
       "      <td>226.062500</td>\n",
       "      <td>262.531250</td>\n",
       "      <td>415.375000</td>\n",
       "    </tr>\n",
       "    <tr>\n",
       "      <th>v7</th>\n",
       "      <td>160.0</td>\n",
       "      <td>714.737926</td>\n",
       "      <td>51.148098</td>\n",
       "      <td>586.266667</td>\n",
       "      <td>678.385417</td>\n",
       "      <td>718.833333</td>\n",
       "      <td>751.446875</td>\n",
       "      <td>853.466667</td>\n",
       "    </tr>\n",
       "    <tr>\n",
       "      <th>v8</th>\n",
       "      <td>160.0</td>\n",
       "      <td>4456.913233</td>\n",
       "      <td>335.035933</td>\n",
       "      <td>3725.666667</td>\n",
       "      <td>4273.437500</td>\n",
       "      <td>4554.766667</td>\n",
       "      <td>4700.612500</td>\n",
       "      <td>5086.375000</td>\n",
       "    </tr>\n",
       "  </tbody>\n",
       "</table>\n",
       "</div>"
      ],
      "text/plain": [
       "        count         mean         std          min          25%          50%  \\\n",
       "target  160.0     4.733750    0.214050     4.130000     4.600000     4.720000   \n",
       "v1      160.0   389.892437  148.673511   227.285714   268.608333   295.162500   \n",
       "v2      160.0   237.442677   70.128690   178.800000   194.029018   204.187500   \n",
       "v3      160.0   480.573041  118.798984   348.933333   384.419643   414.383929   \n",
       "v4      160.0   394.109622   63.060442   313.733333   353.181250   370.741667   \n",
       "v5      160.0   487.316520  100.941711   373.333333   418.583333   456.031250   \n",
       "v6      160.0   251.450820   59.634652   189.200000   213.000000   226.062500   \n",
       "v7      160.0   714.737926   51.148098   586.266667   678.385417   718.833333   \n",
       "v8      160.0  4456.913233  335.035933  3725.666667  4273.437500  4554.766667   \n",
       "\n",
       "                75%          max  \n",
       "target     4.890000     5.260000  \n",
       "v1       536.409375   678.375000  \n",
       "v2       244.716667   422.812500  \n",
       "v3       591.611404   722.312500  \n",
       "v4       424.131250   558.500000  \n",
       "v5       496.475000   721.000000  \n",
       "v6       262.531250   415.375000  \n",
       "v7       751.446875   853.466667  \n",
       "v8      4700.612500  5086.375000  "
      ]
     },
     "execution_count": 8,
     "metadata": {},
     "output_type": "execute_result"
    }
   ],
   "source": [
    "# Mengecek statistik dasar dengan syntax .describe\n",
    "df_eda.describe().T"
   ]
  },
  {
   "attachments": {},
   "cell_type": "markdown",
   "metadata": {},
   "source": [
    "Dari informasi diatas dapat disimpulkan bahwa :\n",
    "- Nutrisi tanaman yang diuji di lab Aria memiliki rentang nutrisi 4.13 - 5.26 dan rata-rata 4.73\n",
    "- Variabel 1 dari tanaman yang diuji, memiliki rentang 227.29 - 678.38 dan rata-rata 389.89\n",
    "- Variabel 2 dari tanaman yang diuji, memiliki rentang 178.8 - 422.81 dan rata-rata 237.44\n",
    "- Variabel 3 dari tanaman yang diuji, memiliki rentang 348.93 - 722.31 dan rata-rata 480.57\n",
    "- Variabel 4 dari tanaman yang diuji, memiliki rentang 313.73 - 558.5 dan rata-rata 394.1\n",
    "- Variabel 5 dari tanaman yang diuji, memiliki rentang 373.33 - 721 dan rata-rata 487.32\n",
    "- Variabel 6 dari tanaman yang diuji, memiliki rentang 189.2 - 415.38 dan rata-rata 251.45\n",
    "- Variabel 7 dari tanaman yang diuji, memiliki rentang 586.27 - 853.47 dan rata-rata 714.74\n",
    "- Variabel 8 dari tanaman yang diuji, memiliki rentang 3725.67 - 5086.38 dan rata-rata 4456.91\n"
   ]
  },
  {
   "cell_type": "code",
   "execution_count": 9,
   "metadata": {},
   "outputs": [
    {
     "data": {
      "text/plain": [
       "array(['lab 1', 'lab 2'], dtype=object)"
      ]
     },
     "execution_count": 9,
     "metadata": {},
     "output_type": "execute_result"
    }
   ],
   "source": [
    "# Pengecekan Unique Values pada sample_type\n",
    "df['sample_type'].unique()"
   ]
  },
  {
   "cell_type": "code",
   "execution_count": 10,
   "metadata": {},
   "outputs": [
    {
     "name": "stdout",
     "output_type": "stream",
     "text": [
      "Num Columns :  ['target', 'v1', 'v2', 'v3', 'v4', 'v5', 'v6', 'v7', 'v8']\n",
      "Cat Columns :  ['sample_type']\n"
     ]
    }
   ],
   "source": [
    "# Memisahkan kolom numerical dan categorical\n",
    "\n",
    "df_num_columns = ['target', 'v1', 'v2', 'v3', 'v4', 'v5', 'v6', 'v7', 'v8']\n",
    "df_cat_columns = ['sample_type']\n",
    "\n",
    "# Print kolom num columns dan cat columns\n",
    "print('Num Columns : ', df_num_columns)\n",
    "print('Cat Columns : ', df_cat_columns)\n"
   ]
  },
  {
   "cell_type": "code",
   "execution_count": 11,
   "metadata": {},
   "outputs": [
    {
     "data": {
      "image/png": "[encoded data removed]",
      "text/plain": [
       "<Figure size 2000x2000 with 9 Axes>"
      ]
     },
     "metadata": {},
     "output_type": "display_data"
    }
   ],
   "source": [
    "# Plot Distribusi\n",
    "plt.figure(figsize = (20, 20))\n",
    "plotnumber = 1\n",
    "\n",
    "for col in df_num_columns:\n",
    "    if plotnumber <= 9:\n",
    "        ax = plt.subplot(3, 3, plotnumber)\n",
    "        sns.histplot(df_eda[col], kde=True)\n",
    "        a = 'Distribusi ' + col\n",
    "        plt.title(a, fontsize=14, fontweight='bold')\n",
    "        plt.xlabel(col, fontsize=14)\n",
    "        plt.ylabel('Count', fontsize=14)\n",
    "    plotnumber += 1\n",
    "    \n",
    "plt.show()"
   ]
  },
  {
   "attachments": {},
   "cell_type": "markdown",
   "metadata": {},
   "source": [
    "Dari informasi diatas dapat disimpulkan bahwa :\n",
    "- Nutrisi tanaman banyak terpusat pada nilai 4,5 - 4,7\n",
    "- Variabel 1 dari tanaman yang diuji, terpusat dibawah 300\n",
    "- Variabel 2 dari tanaman yang diuji, terpusat pada 200\n",
    "- Variabel 3 dari tanaman yang diuji, terpusat pada 350 - 400\n",
    "- Variabel 4 dari tanaman yang diuji, terpusat pada 300 - 380\n",
    "- Variabel 5 dari tanaman yang diuji, terpusat pada 400 - 420 & 450 - 470\n",
    "- Variabel 6 dari tanaman yang diuji, terpusat pada 220\n",
    "- Variabel 7 dari tanaman yang diuji, terpusat pada 700 - 740\n",
    "- Variabel 8 dari tanaman yang diuji, terpusat pada 4.500 - 4.700"
   ]
  },
  {
   "cell_type": "code",
   "execution_count": 12,
   "metadata": {},
   "outputs": [
    {
     "data": {
      "text/plain": [
       "<AxesSubplot:>"
      ]
     },
     "execution_count": 12,
     "metadata": {},
     "output_type": "execute_result"
    },
    {
     "data": {
      "image/png": "[encoded data removed]",
      "text/plain": [
       "<Figure size 1000x700 with 2 Axes>"
      ]
     },
     "metadata": {},
     "output_type": "display_data"
    }
   ],
   "source": [
    "# Pembuatan heatmap untuk menunjukkan korelasi antar feature\n",
    "plt.rcParams['figure.figsize'] = [10,7]\n",
    "sns.heatmap(df_eda.corr(), annot = True, color = 'blue', cmap = 'YlGn')"
   ]
  },
  {
   "cell_type": "code",
   "execution_count": 13,
   "metadata": {},
   "outputs": [],
   "source": [
    "# Pembuatan dataframe korelasi\n",
    "corr = df_eda.corr()\n",
    "corr_triu = corr.where(~np.tril(np.ones(corr.shape)).astype(np.bool_))\n",
    "corr_triu = corr_triu.stack()"
   ]
  },
  {
   "cell_type": "code",
   "execution_count": 14,
   "metadata": {},
   "outputs": [],
   "source": [
    "# Rename kolom agar lebih rapi\n",
    "corr_triu.name = 'Pearson_Correlation_Coefficient'\n",
    "corr_triu.index.names = ['Feature_1', 'Feature_2']"
   ]
  },
  {
   "cell_type": "code",
   "execution_count": 15,
   "metadata": {},
   "outputs": [],
   "source": [
    "# Filter dataframe\n",
    "corr_filter = corr_triu[(corr_triu >= 0.3) | (corr_triu <= -0.3)].to_frame()\n",
    "corr_filter.reset_index(inplace=True)"
   ]
  },
  {
   "cell_type": "code",
   "execution_count": 16,
   "metadata": {},
   "outputs": [],
   "source": [
    "# Pembuatan Label\n",
    "conditions = [\n",
    "    (corr_filter['Pearson_Correlation_Coefficient'] > 0.3) & (corr_filter['Pearson_Correlation_Coefficient'] <= 0.5),\n",
    "    (corr_filter['Pearson_Correlation_Coefficient'] > 0.5) & (corr_filter['Pearson_Correlation_Coefficient'] <= 0.7),\n",
    "    (corr_filter['Pearson_Correlation_Coefficient'] > 0.7) & (corr_filter['Pearson_Correlation_Coefficient'] <= 0.9),\n",
    "    (corr_filter['Pearson_Correlation_Coefficient'] > 0.9) & (corr_filter['Pearson_Correlation_Coefficient'] <= 1),\n",
    "    (corr_filter['Pearson_Correlation_Coefficient'] < -0.3) & (corr_filter['Pearson_Correlation_Coefficient'] >= -0.5),\n",
    "    (corr_filter['Pearson_Correlation_Coefficient'] < -0.5) & (corr_filter['Pearson_Correlation_Coefficient'] >= -0.7),\n",
    "    (corr_filter['Pearson_Correlation_Coefficient'] < -0.7) & (corr_filter['Pearson_Correlation_Coefficient'] >= -0.9),\n",
    "    (corr_filter['Pearson_Correlation_Coefficient'] < -0.9) & (corr_filter['Pearson_Correlation_Coefficient'] >= -1),\n",
    "    ]\n",
    "values = ['Low_Positive_Correlation','Moderate_Positive_Correlation','High_Positive_Correlation','Very_High_Positive_Correlation',\\\n",
    "    'Low_Negative_Correlation','Moderate_Negative_Correlation','High_Negative_Correlation','Very_High_Negative_Correlation']\n",
    "\n",
    "corr_filter['label'] = np.select(conditions,values)"
   ]
  },
  {
   "cell_type": "code",
   "execution_count": 17,
   "metadata": {},
   "outputs": [
    {
     "data": {
      "text/html": [
       "<div>\n",
       "<style scoped>\n",
       "    .dataframe tbody tr th:only-of-type {\n",
       "        vertical-align: middle;\n",
       "    }\n",
       "\n",
       "    .dataframe tbody tr th {\n",
       "        vertical-align: top;\n",
       "    }\n",
       "\n",
       "    .dataframe thead th {\n",
       "        text-align: right;\n",
       "    }\n",
       "</style>\n",
       "<table border=\"1\" class=\"dataframe\">\n",
       "  <thead>\n",
       "    <tr style=\"text-align: right;\">\n",
       "      <th></th>\n",
       "      <th>Feature_1</th>\n",
       "      <th>Feature_2</th>\n",
       "      <th>Pearson_Correlation_Coefficient</th>\n",
       "      <th>label</th>\n",
       "    </tr>\n",
       "  </thead>\n",
       "  <tbody>\n",
       "    <tr>\n",
       "      <th>0</th>\n",
       "      <td>target</td>\n",
       "      <td>v2</td>\n",
       "      <td>-0.361506</td>\n",
       "      <td>Low_Negative_Correlation</td>\n",
       "    </tr>\n",
       "    <tr>\n",
       "      <th>1</th>\n",
       "      <td>target</td>\n",
       "      <td>v4</td>\n",
       "      <td>-0.352085</td>\n",
       "      <td>Low_Negative_Correlation</td>\n",
       "    </tr>\n",
       "    <tr>\n",
       "      <th>2</th>\n",
       "      <td>target</td>\n",
       "      <td>v6</td>\n",
       "      <td>-0.406801</td>\n",
       "      <td>Low_Negative_Correlation</td>\n",
       "    </tr>\n",
       "    <tr>\n",
       "      <th>3</th>\n",
       "      <td>target</td>\n",
       "      <td>v7</td>\n",
       "      <td>-0.388306</td>\n",
       "      <td>Low_Negative_Correlation</td>\n",
       "    </tr>\n",
       "    <tr>\n",
       "      <th>4</th>\n",
       "      <td>v1</td>\n",
       "      <td>v2</td>\n",
       "      <td>0.774008</td>\n",
       "      <td>High_Positive_Correlation</td>\n",
       "    </tr>\n",
       "    <tr>\n",
       "      <th>5</th>\n",
       "      <td>v1</td>\n",
       "      <td>v3</td>\n",
       "      <td>0.988801</td>\n",
       "      <td>Very_High_Positive_Correlation</td>\n",
       "    </tr>\n",
       "    <tr>\n",
       "      <th>6</th>\n",
       "      <td>v1</td>\n",
       "      <td>v4</td>\n",
       "      <td>0.775818</td>\n",
       "      <td>High_Positive_Correlation</td>\n",
       "    </tr>\n",
       "    <tr>\n",
       "      <th>7</th>\n",
       "      <td>v1</td>\n",
       "      <td>v5</td>\n",
       "      <td>0.871424</td>\n",
       "      <td>High_Positive_Correlation</td>\n",
       "    </tr>\n",
       "    <tr>\n",
       "      <th>8</th>\n",
       "      <td>v1</td>\n",
       "      <td>v6</td>\n",
       "      <td>0.696396</td>\n",
       "      <td>Moderate_Positive_Correlation</td>\n",
       "    </tr>\n",
       "    <tr>\n",
       "      <th>9</th>\n",
       "      <td>v1</td>\n",
       "      <td>v8</td>\n",
       "      <td>-0.666113</td>\n",
       "      <td>Moderate_Negative_Correlation</td>\n",
       "    </tr>\n",
       "    <tr>\n",
       "      <th>10</th>\n",
       "      <td>v2</td>\n",
       "      <td>v3</td>\n",
       "      <td>0.772553</td>\n",
       "      <td>High_Positive_Correlation</td>\n",
       "    </tr>\n",
       "    <tr>\n",
       "      <th>11</th>\n",
       "      <td>v2</td>\n",
       "      <td>v4</td>\n",
       "      <td>0.959888</td>\n",
       "      <td>Very_High_Positive_Correlation</td>\n",
       "    </tr>\n",
       "    <tr>\n",
       "      <th>12</th>\n",
       "      <td>v2</td>\n",
       "      <td>v5</td>\n",
       "      <td>0.964994</td>\n",
       "      <td>Very_High_Positive_Correlation</td>\n",
       "    </tr>\n",
       "    <tr>\n",
       "      <th>13</th>\n",
       "      <td>v2</td>\n",
       "      <td>v6</td>\n",
       "      <td>0.971404</td>\n",
       "      <td>Very_High_Positive_Correlation</td>\n",
       "    </tr>\n",
       "    <tr>\n",
       "      <th>14</th>\n",
       "      <td>v2</td>\n",
       "      <td>v7</td>\n",
       "      <td>0.356716</td>\n",
       "      <td>Low_Positive_Correlation</td>\n",
       "    </tr>\n",
       "    <tr>\n",
       "      <th>15</th>\n",
       "      <td>v2</td>\n",
       "      <td>v8</td>\n",
       "      <td>-0.755849</td>\n",
       "      <td>High_Negative_Correlation</td>\n",
       "    </tr>\n",
       "    <tr>\n",
       "      <th>16</th>\n",
       "      <td>v3</td>\n",
       "      <td>v4</td>\n",
       "      <td>0.793699</td>\n",
       "      <td>High_Positive_Correlation</td>\n",
       "    </tr>\n",
       "    <tr>\n",
       "      <th>17</th>\n",
       "      <td>v3</td>\n",
       "      <td>v5</td>\n",
       "      <td>0.876260</td>\n",
       "      <td>High_Positive_Correlation</td>\n",
       "    </tr>\n",
       "    <tr>\n",
       "      <th>18</th>\n",
       "      <td>v3</td>\n",
       "      <td>v6</td>\n",
       "      <td>0.706684</td>\n",
       "      <td>High_Positive_Correlation</td>\n",
       "    </tr>\n",
       "    <tr>\n",
       "      <th>19</th>\n",
       "      <td>v3</td>\n",
       "      <td>v8</td>\n",
       "      <td>-0.637792</td>\n",
       "      <td>Moderate_Negative_Correlation</td>\n",
       "    </tr>\n",
       "    <tr>\n",
       "      <th>20</th>\n",
       "      <td>v4</td>\n",
       "      <td>v5</td>\n",
       "      <td>0.958027</td>\n",
       "      <td>Very_High_Positive_Correlation</td>\n",
       "    </tr>\n",
       "    <tr>\n",
       "      <th>21</th>\n",
       "      <td>v4</td>\n",
       "      <td>v6</td>\n",
       "      <td>0.961597</td>\n",
       "      <td>Very_High_Positive_Correlation</td>\n",
       "    </tr>\n",
       "    <tr>\n",
       "      <th>22</th>\n",
       "      <td>v4</td>\n",
       "      <td>v7</td>\n",
       "      <td>0.489788</td>\n",
       "      <td>Low_Positive_Correlation</td>\n",
       "    </tr>\n",
       "    <tr>\n",
       "      <th>23</th>\n",
       "      <td>v4</td>\n",
       "      <td>v8</td>\n",
       "      <td>-0.662565</td>\n",
       "      <td>Moderate_Negative_Correlation</td>\n",
       "    </tr>\n",
       "    <tr>\n",
       "      <th>24</th>\n",
       "      <td>v5</td>\n",
       "      <td>v6</td>\n",
       "      <td>0.941241</td>\n",
       "      <td>Very_High_Positive_Correlation</td>\n",
       "    </tr>\n",
       "    <tr>\n",
       "      <th>25</th>\n",
       "      <td>v5</td>\n",
       "      <td>v8</td>\n",
       "      <td>-0.777265</td>\n",
       "      <td>High_Negative_Correlation</td>\n",
       "    </tr>\n",
       "    <tr>\n",
       "      <th>26</th>\n",
       "      <td>v6</td>\n",
       "      <td>v7</td>\n",
       "      <td>0.476895</td>\n",
       "      <td>Low_Positive_Correlation</td>\n",
       "    </tr>\n",
       "    <tr>\n",
       "      <th>27</th>\n",
       "      <td>v6</td>\n",
       "      <td>v8</td>\n",
       "      <td>-0.736574</td>\n",
       "      <td>High_Negative_Correlation</td>\n",
       "    </tr>\n",
       "  </tbody>\n",
       "</table>\n",
       "</div>"
      ],
      "text/plain": [
       "   Feature_1 Feature_2  Pearson_Correlation_Coefficient  \\\n",
       "0     target        v2                        -0.361506   \n",
       "1     target        v4                        -0.352085   \n",
       "2     target        v6                        -0.406801   \n",
       "3     target        v7                        -0.388306   \n",
       "4         v1        v2                         0.774008   \n",
       "5         v1        v3                         0.988801   \n",
       "6         v1        v4                         0.775818   \n",
       "7         v1        v5                         0.871424   \n",
       "8         v1        v6                         0.696396   \n",
       "9         v1        v8                        -0.666113   \n",
       "10        v2        v3                         0.772553   \n",
       "11        v2        v4                         0.959888   \n",
       "12        v2        v5                         0.964994   \n",
       "13        v2        v6                         0.971404   \n",
       "14        v2        v7                         0.356716   \n",
       "15        v2        v8                        -0.755849   \n",
       "16        v3        v4                         0.793699   \n",
       "17        v3        v5                         0.876260   \n",
       "18        v3        v6                         0.706684   \n",
       "19        v3        v8                        -0.637792   \n",
       "20        v4        v5                         0.958027   \n",
       "21        v4        v6                         0.961597   \n",
       "22        v4        v7                         0.489788   \n",
       "23        v4        v8                        -0.662565   \n",
       "24        v5        v6                         0.941241   \n",
       "25        v5        v8                        -0.777265   \n",
       "26        v6        v7                         0.476895   \n",
       "27        v6        v8                        -0.736574   \n",
       "\n",
       "                             label  \n",
       "0         Low_Negative_Correlation  \n",
       "1         Low_Negative_Correlation  \n",
       "2         Low_Negative_Correlation  \n",
       "3         Low_Negative_Correlation  \n",
       "4        High_Positive_Correlation  \n",
       "5   Very_High_Positive_Correlation  \n",
       "6        High_Positive_Correlation  \n",
       "7        High_Positive_Correlation  \n",
       "8    Moderate_Positive_Correlation  \n",
       "9    Moderate_Negative_Correlation  \n",
       "10       High_Positive_Correlation  \n",
       "11  Very_High_Positive_Correlation  \n",
       "12  Very_High_Positive_Correlation  \n",
       "13  Very_High_Positive_Correlation  \n",
       "14        Low_Positive_Correlation  \n",
       "15       High_Negative_Correlation  \n",
       "16       High_Positive_Correlation  \n",
       "17       High_Positive_Correlation  \n",
       "18       High_Positive_Correlation  \n",
       "19   Moderate_Negative_Correlation  \n",
       "20  Very_High_Positive_Correlation  \n",
       "21  Very_High_Positive_Correlation  \n",
       "22        Low_Positive_Correlation  \n",
       "23   Moderate_Negative_Correlation  \n",
       "24  Very_High_Positive_Correlation  \n",
       "25       High_Negative_Correlation  \n",
       "26        Low_Positive_Correlation  \n",
       "27       High_Negative_Correlation  "
      ]
     },
     "execution_count": 17,
     "metadata": {},
     "output_type": "execute_result"
    }
   ],
   "source": [
    "# Menampilkan df korelasi\n",
    "corr_filter"
   ]
  },
  {
   "attachments": {},
   "cell_type": "markdown",
   "metadata": {},
   "source": [
    "Dari informasi diatas dapat disimpulkan bahwa (*summary* yang memiliki korelasi tinggi) :\n",
    "\n",
    "1. Korelasi terhadap target :\n",
    "\n",
    "    - Variabel 1 - Variabel 7 memiliki korelasi negatif lemah terhadap target. Korelasi negatif tertinggi ada pada Variabel 6\n",
    "    - Variabel 8 memiliki korelasi positif lemah terhadap target\n",
    "\n",
    "2. Korelasi antar variabel :\n",
    "    \n",
    "    - Variabel 1 memiliki korelasi positif kuat dengan Variabel 2,4,5\n",
    "    - Variabel 1 memiliki korelasi positif sangat kuat dengan Variabel 3\n",
    "    - Variabel 2 memiliki korelasi positif kuat dengan Variabel 3\n",
    "    - Variabel 2 memiliki korelasi **negatif** kuat dengan Variabel 8\n",
    "    - Variabel 2 memiliki korelasi positif sangat kuat dengan Variabel 4,5,6\n",
    "    - Variabel 3 memiliki korelasi positif kuat dengan Variabel 4,5,6\n",
    "    - Variabel 4 memiliki korelasi positif sangat kuat dengan Variabel 5,6\n",
    "    - Variabel 5 memiliki korelasi **negatif** kuat dengan Variabel 8\n",
    "    - Variabel 5 memiliki korelasi positif sangat kuat dengan Variabel 6\n",
    "    - Variabel 6 memiliki korelasi **negatif** kuat dengan Variabel 8\n",
    "\n",
    "3. Karena terdapat *multicolinearity* **maka saya akan menggunakan model yang dapat menangani multicolinearity** "
   ]
  },
  {
   "cell_type": "code",
   "execution_count": 18,
   "metadata": {},
   "outputs": [
    {
     "name": "stdout",
     "output_type": "stream",
     "text": [
      "lab 1    100\n",
      "lab 2     60\n",
      "Name: sample_type, dtype: int64\n"
     ]
    }
   ],
   "source": [
    "# Menghitung count unique value dari 'sample_type'\n",
    "print(df_eda['sample_type'].value_counts())"
   ]
  },
  {
   "cell_type": "code",
   "execution_count": 19,
   "metadata": {},
   "outputs": [
    {
     "data": {
      "image/png": "[encoded data removed]",
      "text/plain": [
       "<Figure size 1500x600 with 2 Axes>"
      ]
     },
     "metadata": {},
     "output_type": "display_data"
    }
   ],
   "source": [
    "# Membuat visualisasi Distribusi sample_type\n",
    "fig, ax =plt.subplots(1,2,figsize=(15,6))\n",
    "\n",
    "sns.countplot(x='sample_type', data=df_eda, palette=\"winter\", ax=ax[0])\n",
    "ax[0].set_xlabel(\"Lab\", fontsize= 12)\n",
    "ax[0].set_ylabel(\"# of Tested Plant\", fontsize= 12)\n",
    "fig.suptitle('Count of Tested Plant in each Lab', fontsize=18, fontweight='bold')\n",
    "ax[0].set_ylim(0,110)\n",
    "\n",
    "ax[0].set_xticks([0,1], ['Lab 1', 'Lab 2'], fontsize = 11)\n",
    "for p in ax[0].patches:\n",
    "    ax[0].annotate(\"%.0f\"%(p.get_height()), (p.get_x() + p.get_width() / 2,\n",
    "                    p.get_height()+2), ha='center', va='center',fontsize = 11) \n",
    "\n",
    "df_eda['sample_type'].value_counts().plot(kind='pie', labels = ['Lab 1','Lab 2'],autopct='%1.1f%%',explode = [0,0.05] ,colors = ['indigo','salmon'],textprops = {\"fontsize\":12})\n",
    "ax[1].set_ylabel(\"% of Tested Plant\", fontsize= 12)\n",
    "plt.show()"
   ]
  },
  {
   "attachments": {},
   "cell_type": "markdown",
   "metadata": {},
   "source": [
    "Dari informasi diatas dapat disimpulkan bahwa :\n",
    "- Tanaman yang diuji pada Lab 1 lebih banyak dari pada lab 2 (tidak *balance*)"
   ]
  },
  {
   "cell_type": "code",
   "execution_count": 20,
   "metadata": {},
   "outputs": [
    {
     "data": {
      "image/png": "[encoded data removed]",
      "text/plain": [
       "<Figure size 1000x500 with 1 Axes>"
      ]
     },
     "metadata": {},
     "output_type": "display_data"
    }
   ],
   "source": [
    "#  Visualisasi sample_type vs target\n",
    "plt.rcParams['figure.figsize'] = (10, 5)\n",
    "sns.boxenplot(y=df_eda['target'], x= df_eda['sample_type'], palette = 'Blues')\n",
    "plt.title('Sample Type vs Target', fontsize = 15)\n",
    "plt.show()"
   ]
  },
  {
   "attachments": {},
   "cell_type": "markdown",
   "metadata": {},
   "source": [
    "Dari informasi diatas dapat disimpukkan bahwa :\n",
    "- Lab 1 sering menguji tanaman dengan tingkat nutrisi 4.6 - 4.85\n",
    "- Lab 2 sering menguji tanaman dengan tingkat nutrisi 4.5 - 5"
   ]
  },
  {
   "cell_type": "code",
   "execution_count": 21,
   "metadata": {},
   "outputs": [],
   "source": [
    "# Definisi variabel X dan y\n",
    "X = df.drop(['target'], axis=1)\n",
    "y = df['target']"
   ]
  },
  {
   "cell_type": "code",
   "execution_count": 22,
   "metadata": {},
   "outputs": [
    {
     "data": {
      "text/html": [
       "<div>\n",
       "<style scoped>\n",
       "    .dataframe tbody tr th:only-of-type {\n",
       "        vertical-align: middle;\n",
       "    }\n",
       "\n",
       "    .dataframe tbody tr th {\n",
       "        vertical-align: top;\n",
       "    }\n",
       "\n",
       "    .dataframe thead th {\n",
       "        text-align: right;\n",
       "    }\n",
       "</style>\n",
       "<table border=\"1\" class=\"dataframe\">\n",
       "  <thead>\n",
       "    <tr style=\"text-align: right;\">\n",
       "      <th></th>\n",
       "      <th>v1</th>\n",
       "      <th>v2</th>\n",
       "      <th>v3</th>\n",
       "      <th>v4</th>\n",
       "      <th>v5</th>\n",
       "      <th>v6</th>\n",
       "      <th>v7</th>\n",
       "      <th>v8</th>\n",
       "      <th>sample_type</th>\n",
       "    </tr>\n",
       "  </thead>\n",
       "  <tbody>\n",
       "    <tr>\n",
       "      <th>0</th>\n",
       "      <td>260.600000</td>\n",
       "      <td>199.000000</td>\n",
       "      <td>391.333333</td>\n",
       "      <td>371.733333</td>\n",
       "      <td>466.800000</td>\n",
       "      <td>273.133333</td>\n",
       "      <td>742.066667</td>\n",
       "      <td>4047.733333</td>\n",
       "      <td>lab 1</td>\n",
       "    </tr>\n",
       "    <tr>\n",
       "      <th>1</th>\n",
       "      <td>263.200000</td>\n",
       "      <td>194.600000</td>\n",
       "      <td>393.666667</td>\n",
       "      <td>348.533333</td>\n",
       "      <td>401.800000</td>\n",
       "      <td>220.066667</td>\n",
       "      <td>712.000000</td>\n",
       "      <td>4673.466667</td>\n",
       "      <td>lab 1</td>\n",
       "    </tr>\n",
       "    <tr>\n",
       "      <th>2</th>\n",
       "      <td>247.266667</td>\n",
       "      <td>205.800000</td>\n",
       "      <td>375.466667</td>\n",
       "      <td>354.866667</td>\n",
       "      <td>419.000000</td>\n",
       "      <td>222.133333</td>\n",
       "      <td>677.200000</td>\n",
       "      <td>4386.800000</td>\n",
       "      <td>lab 1</td>\n",
       "    </tr>\n",
       "    <tr>\n",
       "      <th>3</th>\n",
       "      <td>257.944444</td>\n",
       "      <td>191.833333</td>\n",
       "      <td>368.722222</td>\n",
       "      <td>334.666667</td>\n",
       "      <td>417.222222</td>\n",
       "      <td>195.944444</td>\n",
       "      <td>678.555556</td>\n",
       "      <td>4588.777778</td>\n",
       "      <td>lab 1</td>\n",
       "    </tr>\n",
       "    <tr>\n",
       "      <th>4</th>\n",
       "      <td>258.200000</td>\n",
       "      <td>195.733333</td>\n",
       "      <td>356.666667</td>\n",
       "      <td>333.333333</td>\n",
       "      <td>394.600000</td>\n",
       "      <td>196.000000</td>\n",
       "      <td>677.133333</td>\n",
       "      <td>4867.066667</td>\n",
       "      <td>lab 1</td>\n",
       "    </tr>\n",
       "    <tr>\n",
       "      <th>...</th>\n",
       "      <td>...</td>\n",
       "      <td>...</td>\n",
       "      <td>...</td>\n",
       "      <td>...</td>\n",
       "      <td>...</td>\n",
       "      <td>...</td>\n",
       "      <td>...</td>\n",
       "      <td>...</td>\n",
       "      <td>...</td>\n",
       "    </tr>\n",
       "    <tr>\n",
       "      <th>155</th>\n",
       "      <td>573.250000</td>\n",
       "      <td>361.250000</td>\n",
       "      <td>643.125000</td>\n",
       "      <td>489.812500</td>\n",
       "      <td>666.875000</td>\n",
       "      <td>355.250000</td>\n",
       "      <td>712.312500</td>\n",
       "      <td>3943.687500</td>\n",
       "      <td>lab 2</td>\n",
       "    </tr>\n",
       "    <tr>\n",
       "      <th>156</th>\n",
       "      <td>678.375000</td>\n",
       "      <td>398.125000</td>\n",
       "      <td>678.250000</td>\n",
       "      <td>541.125000</td>\n",
       "      <td>704.000000</td>\n",
       "      <td>393.500000</td>\n",
       "      <td>788.812500</td>\n",
       "      <td>3928.187500</td>\n",
       "      <td>lab 2</td>\n",
       "    </tr>\n",
       "    <tr>\n",
       "      <th>157</th>\n",
       "      <td>634.000000</td>\n",
       "      <td>382.866667</td>\n",
       "      <td>657.466667</td>\n",
       "      <td>505.066667</td>\n",
       "      <td>719.200000</td>\n",
       "      <td>366.600000</td>\n",
       "      <td>792.133333</td>\n",
       "      <td>3861.200000</td>\n",
       "      <td>lab 2</td>\n",
       "    </tr>\n",
       "    <tr>\n",
       "      <th>158</th>\n",
       "      <td>615.312500</td>\n",
       "      <td>366.750000</td>\n",
       "      <td>642.937500</td>\n",
       "      <td>483.687500</td>\n",
       "      <td>675.625000</td>\n",
       "      <td>359.062500</td>\n",
       "      <td>730.125000</td>\n",
       "      <td>3859.062500</td>\n",
       "      <td>lab 2</td>\n",
       "    </tr>\n",
       "    <tr>\n",
       "      <th>159</th>\n",
       "      <td>575.200000</td>\n",
       "      <td>350.266667</td>\n",
       "      <td>648.333333</td>\n",
       "      <td>495.400000</td>\n",
       "      <td>679.800000</td>\n",
       "      <td>346.266667</td>\n",
       "      <td>718.733333</td>\n",
       "      <td>3903.333333</td>\n",
       "      <td>lab 2</td>\n",
       "    </tr>\n",
       "  </tbody>\n",
       "</table>\n",
       "<p>160 rows × 9 columns</p>\n",
       "</div>"
      ],
      "text/plain": [
       "             v1          v2          v3          v4          v5          v6  \\\n",
       "0    260.600000  199.000000  391.333333  371.733333  466.800000  273.133333   \n",
       "1    263.200000  194.600000  393.666667  348.533333  401.800000  220.066667   \n",
       "2    247.266667  205.800000  375.466667  354.866667  419.000000  222.133333   \n",
       "3    257.944444  191.833333  368.722222  334.666667  417.222222  195.944444   \n",
       "4    258.200000  195.733333  356.666667  333.333333  394.600000  196.000000   \n",
       "..          ...         ...         ...         ...         ...         ...   \n",
       "155  573.250000  361.250000  643.125000  489.812500  666.875000  355.250000   \n",
       "156  678.375000  398.125000  678.250000  541.125000  704.000000  393.500000   \n",
       "157  634.000000  382.866667  657.466667  505.066667  719.200000  366.600000   \n",
       "158  615.312500  366.750000  642.937500  483.687500  675.625000  359.062500   \n",
       "159  575.200000  350.266667  648.333333  495.400000  679.800000  346.266667   \n",
       "\n",
       "             v7           v8 sample_type  \n",
       "0    742.066667  4047.733333       lab 1  \n",
       "1    712.000000  4673.466667       lab 1  \n",
       "2    677.200000  4386.800000       lab 1  \n",
       "3    678.555556  4588.777778       lab 1  \n",
       "4    677.133333  4867.066667       lab 1  \n",
       "..          ...          ...         ...  \n",
       "155  712.312500  3943.687500       lab 2  \n",
       "156  788.812500  3928.187500       lab 2  \n",
       "157  792.133333  3861.200000       lab 2  \n",
       "158  730.125000  3859.062500       lab 2  \n",
       "159  718.733333  3903.333333       lab 2  \n",
       "\n",
       "[160 rows x 9 columns]"
      ]
     },
     "execution_count": 22,
     "metadata": {},
     "output_type": "execute_result"
    }
   ],
   "source": [
    "# Menampilkan X\n",
    "X"
   ]
  },
  {
   "cell_type": "code",
   "execution_count": 23,
   "metadata": {},
   "outputs": [
    {
     "data": {
      "text/plain": [
       "0      4.63\n",
       "1      5.00\n",
       "2      4.91\n",
       "3      4.77\n",
       "4      4.89\n",
       "       ... \n",
       "155    4.83\n",
       "156    4.47\n",
       "157    4.63\n",
       "158    4.35\n",
       "159    4.43\n",
       "Name: target, Length: 160, dtype: float64"
      ]
     },
     "execution_count": 23,
     "metadata": {},
     "output_type": "execute_result"
    }
   ],
   "source": [
    "# Menampilkan y\n",
    "y"
   ]
  },
  {
   "cell_type": "code",
   "execution_count": 24,
   "metadata": {},
   "outputs": [
    {
     "name": "stdout",
     "output_type": "stream",
     "text": [
      "Train Size :  (120, 9)\n",
      "Test Size  :  (40, 9)\n"
     ]
    }
   ],
   "source": [
    "#Split X train, X test, y train dan y test\n",
    "X_train, X_test, y_train, y_test = train_test_split(X, y, test_size=0.25, random_state=1)\n",
    "\n",
    "print('Train Size : ', X_train.shape)\n",
    "print('Test Size  : ', X_test.shape)"
   ]
  },
  {
   "cell_type": "code",
   "execution_count": 25,
   "metadata": {},
   "outputs": [
    {
     "data": {
      "text/html": [
       "<div>\n",
       "<style scoped>\n",
       "    .dataframe tbody tr th:only-of-type {\n",
       "        vertical-align: middle;\n",
       "    }\n",
       "\n",
       "    .dataframe tbody tr th {\n",
       "        vertical-align: top;\n",
       "    }\n",
       "\n",
       "    .dataframe thead th {\n",
       "        text-align: right;\n",
       "    }\n",
       "</style>\n",
       "<table border=\"1\" class=\"dataframe\">\n",
       "  <thead>\n",
       "    <tr style=\"text-align: right;\">\n",
       "      <th></th>\n",
       "      <th>v1</th>\n",
       "      <th>v2</th>\n",
       "      <th>v3</th>\n",
       "      <th>v4</th>\n",
       "      <th>v5</th>\n",
       "      <th>v6</th>\n",
       "      <th>v7</th>\n",
       "      <th>v8</th>\n",
       "      <th>sample_type</th>\n",
       "    </tr>\n",
       "  </thead>\n",
       "  <tbody>\n",
       "    <tr>\n",
       "      <th>132</th>\n",
       "      <td>593.812500</td>\n",
       "      <td>379.625000</td>\n",
       "      <td>637.125000</td>\n",
       "      <td>489.000000</td>\n",
       "      <td>672.875000</td>\n",
       "      <td>368.375000</td>\n",
       "      <td>689.375000</td>\n",
       "      <td>3836.562500</td>\n",
       "      <td>lab 2</td>\n",
       "    </tr>\n",
       "    <tr>\n",
       "      <th>110</th>\n",
       "      <td>482.562500</td>\n",
       "      <td>191.312500</td>\n",
       "      <td>559.875000</td>\n",
       "      <td>353.125000</td>\n",
       "      <td>477.000000</td>\n",
       "      <td>195.250000</td>\n",
       "      <td>638.812500</td>\n",
       "      <td>4462.062500</td>\n",
       "      <td>lab 2</td>\n",
       "    </tr>\n",
       "    <tr>\n",
       "      <th>106</th>\n",
       "      <td>538.333333</td>\n",
       "      <td>207.000000</td>\n",
       "      <td>607.866667</td>\n",
       "      <td>383.800000</td>\n",
       "      <td>475.266667</td>\n",
       "      <td>204.800000</td>\n",
       "      <td>679.200000</td>\n",
       "      <td>4773.200000</td>\n",
       "      <td>lab 2</td>\n",
       "    </tr>\n",
       "    <tr>\n",
       "      <th>155</th>\n",
       "      <td>573.250000</td>\n",
       "      <td>361.250000</td>\n",
       "      <td>643.125000</td>\n",
       "      <td>489.812500</td>\n",
       "      <td>666.875000</td>\n",
       "      <td>355.250000</td>\n",
       "      <td>712.312500</td>\n",
       "      <td>3943.687500</td>\n",
       "      <td>lab 2</td>\n",
       "    </tr>\n",
       "    <tr>\n",
       "      <th>12</th>\n",
       "      <td>245.000000</td>\n",
       "      <td>186.285714</td>\n",
       "      <td>359.857143</td>\n",
       "      <td>320.571429</td>\n",
       "      <td>396.785714</td>\n",
       "      <td>204.000000</td>\n",
       "      <td>633.357143</td>\n",
       "      <td>4383.000000</td>\n",
       "      <td>lab 1</td>\n",
       "    </tr>\n",
       "    <tr>\n",
       "      <th>...</th>\n",
       "      <td>...</td>\n",
       "      <td>...</td>\n",
       "      <td>...</td>\n",
       "      <td>...</td>\n",
       "      <td>...</td>\n",
       "      <td>...</td>\n",
       "      <td>...</td>\n",
       "      <td>...</td>\n",
       "      <td>...</td>\n",
       "    </tr>\n",
       "    <tr>\n",
       "      <th>133</th>\n",
       "      <td>620.875000</td>\n",
       "      <td>367.000000</td>\n",
       "      <td>659.000000</td>\n",
       "      <td>480.000000</td>\n",
       "      <td>668.250000</td>\n",
       "      <td>364.062500</td>\n",
       "      <td>752.187500</td>\n",
       "      <td>3772.875000</td>\n",
       "      <td>lab 2</td>\n",
       "    </tr>\n",
       "    <tr>\n",
       "      <th>137</th>\n",
       "      <td>651.533333</td>\n",
       "      <td>371.600000</td>\n",
       "      <td>657.533333</td>\n",
       "      <td>485.066667</td>\n",
       "      <td>656.666667</td>\n",
       "      <td>355.533333</td>\n",
       "      <td>715.133333</td>\n",
       "      <td>3958.733333</td>\n",
       "      <td>lab 2</td>\n",
       "    </tr>\n",
       "    <tr>\n",
       "      <th>72</th>\n",
       "      <td>277.357143</td>\n",
       "      <td>209.428571</td>\n",
       "      <td>407.785714</td>\n",
       "      <td>386.357143</td>\n",
       "      <td>445.857143</td>\n",
       "      <td>232.785714</td>\n",
       "      <td>754.000000</td>\n",
       "      <td>4773.000000</td>\n",
       "      <td>lab 1</td>\n",
       "    </tr>\n",
       "    <tr>\n",
       "      <th>140</th>\n",
       "      <td>641.000000</td>\n",
       "      <td>383.400000</td>\n",
       "      <td>667.133333</td>\n",
       "      <td>535.133333</td>\n",
       "      <td>699.466667</td>\n",
       "      <td>371.466667</td>\n",
       "      <td>759.266667</td>\n",
       "      <td>3869.000000</td>\n",
       "      <td>lab 2</td>\n",
       "    </tr>\n",
       "    <tr>\n",
       "      <th>37</th>\n",
       "      <td>279.800000</td>\n",
       "      <td>200.200000</td>\n",
       "      <td>355.333333</td>\n",
       "      <td>327.933333</td>\n",
       "      <td>395.866667</td>\n",
       "      <td>204.533333</td>\n",
       "      <td>650.666667</td>\n",
       "      <td>4551.666667</td>\n",
       "      <td>lab 1</td>\n",
       "    </tr>\n",
       "  </tbody>\n",
       "</table>\n",
       "<p>120 rows × 9 columns</p>\n",
       "</div>"
      ],
      "text/plain": [
       "             v1          v2          v3          v4          v5          v6  \\\n",
       "132  593.812500  379.625000  637.125000  489.000000  672.875000  368.375000   \n",
       "110  482.562500  191.312500  559.875000  353.125000  477.000000  195.250000   \n",
       "106  538.333333  207.000000  607.866667  383.800000  475.266667  204.800000   \n",
       "155  573.250000  361.250000  643.125000  489.812500  666.875000  355.250000   \n",
       "12   245.000000  186.285714  359.857143  320.571429  396.785714  204.000000   \n",
       "..          ...         ...         ...         ...         ...         ...   \n",
       "133  620.875000  367.000000  659.000000  480.000000  668.250000  364.062500   \n",
       "137  651.533333  371.600000  657.533333  485.066667  656.666667  355.533333   \n",
       "72   277.357143  209.428571  407.785714  386.357143  445.857143  232.785714   \n",
       "140  641.000000  383.400000  667.133333  535.133333  699.466667  371.466667   \n",
       "37   279.800000  200.200000  355.333333  327.933333  395.866667  204.533333   \n",
       "\n",
       "             v7           v8 sample_type  \n",
       "132  689.375000  3836.562500       lab 2  \n",
       "110  638.812500  4462.062500       lab 2  \n",
       "106  679.200000  4773.200000       lab 2  \n",
       "155  712.312500  3943.687500       lab 2  \n",
       "12   633.357143  4383.000000       lab 1  \n",
       "..          ...          ...         ...  \n",
       "133  752.187500  3772.875000       lab 2  \n",
       "137  715.133333  3958.733333       lab 2  \n",
       "72   754.000000  4773.000000       lab 1  \n",
       "140  759.266667  3869.000000       lab 2  \n",
       "37   650.666667  4551.666667       lab 1  \n",
       "\n",
       "[120 rows x 9 columns]"
      ]
     },
     "execution_count": 25,
     "metadata": {},
     "output_type": "execute_result"
    }
   ],
   "source": [
    "# print X_train\n",
    "X_train"
   ]
  },
  {
   "cell_type": "code",
   "execution_count": 26,
   "metadata": {},
   "outputs": [],
   "source": [
    "# Definisi fungsi untuk membuat boxplot dan histogram dari setiap feature numeric\n",
    "\n",
    "def diagnostic_plots(df, variable):\n",
    "    # Mendefinisikan figure size\n",
    "    plt.figure(figsize=(16, 4))\n",
    "\n",
    "    # Histogram\n",
    "    plt.subplot(1, 2, 1)\n",
    "    sns.histplot(df[variable], bins=30)\n",
    "    plt.title('Histogram '+ variable )\n",
    "\n",
    "    # Boxplot\n",
    "    plt.subplot(1, 2, 2)\n",
    "    sns.boxplot(y=df[variable])\n",
    "    plt.title('Boxplot ' + variable)\n",
    "\n",
    "    plt.show()\n",
    "\n",
    "    # Cek skew feature\n",
    "    print('\\nSkewness Value ',variable, ' : ' , df[variable].skew())"
   ]
  },
  {
   "cell_type": "code",
   "execution_count": 27,
   "metadata": {},
   "outputs": [
    {
     "name": "stdout",
     "output_type": "stream",
     "text": [
      "Xtrain Num Columns :  ['v1', 'v2', 'v3', 'v4', 'v5', 'v6', 'v7', 'v8']\n",
      "Xtrain Cat Columns :  ['sample_type']\n"
     ]
    }
   ],
   "source": [
    "# Memisahkan kolom numerical dan categorical\n",
    "\n",
    "Xtrain_num_columns = ['v1', 'v2', 'v3', 'v4', 'v5', 'v6', 'v7', 'v8']\n",
    "Xtrain_cat_columns = ['sample_type']\n",
    "\n",
    "# Print kolom num columns dan cat columns\n",
    "print('Xtrain Num Columns : ', Xtrain_num_columns)\n",
    "print('Xtrain Cat Columns : ', Xtrain_cat_columns)"
   ]
  },
  {
   "cell_type": "code",
   "execution_count": 28,
   "metadata": {},
   "outputs": [
    {
     "data": {
      "image/png": "[encoded data removed]",
      "text/plain": [
       "<Figure size 1600x400 with 2 Axes>"
      ]
     },
     "metadata": {},
     "output_type": "display_data"
    },
    {
     "name": "stdout",
     "output_type": "stream",
     "text": [
      "\n",
      "Skewness Value  v1  :  0.5050466781099159\n"
     ]
    },
    {
     "data": {
      "image/png": "[encoded data removed]",
      "text/plain": [
       "<Figure size 1600x400 with 2 Axes>"
      ]
     },
     "metadata": {},
     "output_type": "display_data"
    },
    {
     "name": "stdout",
     "output_type": "stream",
     "text": [
      "\n",
      "Skewness Value  v2  :  1.288427805475792\n"
     ]
    },
    {
     "data": {
      "image/png": "[encoded data removed]",
      "text/plain": [
       "<Figure size 1600x400 with 2 Axes>"
      ]
     },
     "metadata": {},
     "output_type": "display_data"
    },
    {
     "name": "stdout",
     "output_type": "stream",
     "text": [
      "\n",
      "Skewness Value  v3  :  0.46937897344290924\n"
     ]
    },
    {
     "data": {
      "image/png": "[encoded data removed]",
      "text/plain": [
       "<Figure size 1600x400 with 2 Axes>"
      ]
     },
     "metadata": {},
     "output_type": "display_data"
    },
    {
     "name": "stdout",
     "output_type": "stream",
     "text": [
      "\n",
      "Skewness Value  v4  :  1.0541982448963638\n"
     ]
    },
    {
     "data": {
      "image/png": "[encoded data removed]",
      "text/plain": [
       "<Figure size 1600x400 with 2 Axes>"
      ]
     },
     "metadata": {},
     "output_type": "display_data"
    },
    {
     "name": "stdout",
     "output_type": "stream",
     "text": [
      "\n",
      "Skewness Value  v5  :  1.1186125913982807\n"
     ]
    },
    {
     "data": {
      "image/png": "[encoded data removed]",
      "text/plain": [
       "<Figure size 1600x400 with 2 Axes>"
      ]
     },
     "metadata": {},
     "output_type": "display_data"
    },
    {
     "name": "stdout",
     "output_type": "stream",
     "text": [
      "\n",
      "Skewness Value  v6  :  1.1891214197320026\n"
     ]
    },
    {
     "data": {
      "image/png": "[encoded data removed]",
      "text/plain": [
       "<Figure size 1600x400 with 2 Axes>"
      ]
     },
     "metadata": {},
     "output_type": "display_data"
    },
    {
     "name": "stdout",
     "output_type": "stream",
     "text": [
      "\n",
      "Skewness Value  v7  :  -0.2215950839967901\n"
     ]
    },
    {
     "data": {
      "image/png": "[encoded data removed]",
      "text/plain": [
       "<Figure size 1600x400 with 2 Axes>"
      ]
     },
     "metadata": {},
     "output_type": "display_data"
    },
    {
     "name": "stdout",
     "output_type": "stream",
     "text": [
      "\n",
      "Skewness Value  v8  :  -0.6921436273153805\n"
     ]
    }
   ],
   "source": [
    "# Pengecekan distribusi dan skew dari setiap feature numeric\n",
    "for i in Xtrain_num_columns:\n",
    "    diagnostic_plots(X_train, i)"
   ]
  },
  {
   "attachments": {},
   "cell_type": "markdown",
   "metadata": {},
   "source": [
    "Dari informasi diatas dapat disimpulkan bahwa :\n",
    "- Variabel 2,4,5,6 -> Extreme Right Skew\n",
    "- Variabel 1 -> Right Skew\n",
    "- Variabel 3,7 -> Normal\n",
    "- Variabel 8 -> Left Skew"
   ]
  },
  {
   "cell_type": "code",
   "execution_count": 29,
   "metadata": {},
   "outputs": [],
   "source": [
    "# Fungsi Pengecekan Outlier\n",
    "def outliers_check(df,variable):\n",
    "    global interq\n",
    "    global lower_boundary\n",
    "    global upper_boundary\n",
    "    if (df[variable].skew() > 0.5 and df[variable].skew() <= 1) or (df[variable].skew() < -0.5 and df[variable].skew() >= -1):\n",
    "        interq = df[variable].quantile(0.75) - df[variable].quantile(0.25)\n",
    "        lower_boundary = df[variable].quantile(0.25) - (interq * 1.5)\n",
    "        upper_boundary = df[variable].quantile(0.75) + (interq * 1.5)\n",
    "        outlier = df[(df[variable]< lower_boundary) | (df[variable]>upper_boundary)]\n",
    "    elif df[variable].skew() >= 1 or df[variable].skew() <= -1:\n",
    "        interq = df[variable].quantile(0.75) - df[variable].quantile(0.25)\n",
    "        lower_boundary = df[variable].quantile(0.25) - (interq * 3)\n",
    "        upper_boundary = df[variable].quantile(0.75) + (interq * 3)\n",
    "        outlier = df[(df[variable]<lower_boundary) | (df[variable]>upper_boundary)]\n",
    "    else:\n",
    "        lower_boundary = df[variable].mean() - (3 * df[variable].std())\n",
    "        upper_boundary = df[variable].mean() + (3 * df[variable].std())\n",
    "        outlier = df[(df[variable]<lower_boundary) | (df[variable]>upper_boundary)]\n",
    "\n",
    "    return outlier, lower_boundary, upper_boundary"
   ]
  },
  {
   "cell_type": "code",
   "execution_count": 30,
   "metadata": {},
   "outputs": [
    {
     "name": "stdout",
     "output_type": "stream",
     "text": [
      "v1\n",
      "Jumlah Outlier Feature  v1 adalah  0\n",
      "Persentase Outlier Feature  v1 adalah  0.0\n",
      "--------------------------------------------------\n",
      "v2\n",
      "Jumlah Outlier Feature  v2 adalah  0\n",
      "Persentase Outlier Feature  v2 adalah  0.0\n",
      "--------------------------------------------------\n",
      "v3\n",
      "Jumlah Outlier Feature  v3 adalah  0\n",
      "Persentase Outlier Feature  v3 adalah  0.0\n",
      "--------------------------------------------------\n",
      "v4\n",
      "Jumlah Outlier Feature  v4 adalah  0\n",
      "Persentase Outlier Feature  v4 adalah  0.0\n",
      "--------------------------------------------------\n",
      "v5\n",
      "Jumlah Outlier Feature  v5 adalah  0\n",
      "Persentase Outlier Feature  v5 adalah  0.0\n",
      "--------------------------------------------------\n",
      "v6\n",
      "Jumlah Outlier Feature  v6 adalah  0\n",
      "Persentase Outlier Feature  v6 adalah  0.0\n",
      "--------------------------------------------------\n",
      "v7\n",
      "Jumlah Outlier Feature  v7 adalah  0\n",
      "Persentase Outlier Feature  v7 adalah  0.0\n",
      "--------------------------------------------------\n",
      "v8\n",
      "Jumlah Outlier Feature  v8 adalah  0\n",
      "Persentase Outlier Feature  v8 adalah  0.0\n",
      "--------------------------------------------------\n"
     ]
    }
   ],
   "source": [
    "# Pengecekan persentase outlier dari semua feature numerical\n",
    "for i in Xtrain_num_columns:\n",
    "    print(i)\n",
    "    print('Jumlah Outlier Feature ', i,'adalah ' ,round((len(outliers_check(X_train, i)[0])),2))\n",
    "    print('Persentase Outlier Feature ', i,'adalah ' ,round((len(outliers_check(X_train, i)[0])/len(X_train)*100),2))\n",
    "    print('-'*50)"
   ]
  },
  {
   "attachments": {},
   "cell_type": "markdown",
   "metadata": {},
   "source": [
    "Dari informasi diatas dapat disimpulkan bahwa :\n",
    "- Tidak ada *outliers* pada semua *feature*"
   ]
  },
  {
   "cell_type": "code",
   "execution_count": 31,
   "metadata": {},
   "outputs": [
    {
     "data": {
      "text/plain": [
       "v1             0\n",
       "v2             0\n",
       "v3             0\n",
       "v4             0\n",
       "v5             0\n",
       "v6             0\n",
       "v7             0\n",
       "v8             0\n",
       "sample_type    0\n",
       "dtype: int64"
      ]
     },
     "execution_count": 31,
     "metadata": {},
     "output_type": "execute_result"
    }
   ],
   "source": [
    "# Pengecekan null values pada X_train\n",
    "X_train.isnull().sum()"
   ]
  },
  {
   "cell_type": "code",
   "execution_count": 32,
   "metadata": {},
   "outputs": [
    {
     "data": {
      "text/plain": [
       "0"
      ]
     },
     "execution_count": 32,
     "metadata": {},
     "output_type": "execute_result"
    }
   ],
   "source": [
    "# Pengecekan null values pada y_train\n",
    "y_train.isnull().sum()"
   ]
  },
  {
   "cell_type": "markdown",
   "metadata": {},
   "source": [
    "Pada `y_train` tidak terdapat *missing values* sehingga tidak diperlukan *handling*"
   ]
  },
  {
   "cell_type": "code",
   "execution_count": 33,
   "metadata": {},
   "outputs": [
    {
     "data": {
      "text/plain": [
       "v1             0\n",
       "v2             0\n",
       "v3             0\n",
       "v4             0\n",
       "v5             0\n",
       "v6             0\n",
       "v7             0\n",
       "v8             0\n",
       "sample_type    0\n",
       "dtype: int64"
      ]
     },
     "execution_count": 33,
     "metadata": {},
     "output_type": "execute_result"
    }
   ],
   "source": [
    "# Pengecekan null values pada X_test\n",
    "X_test.isnull().sum()"
   ]
  },
  {
   "cell_type": "markdown",
   "metadata": {},
   "source": [
    "Pada `X_test` tidak terdapat *missing values* sehingga tidak diperlukan *handling*"
   ]
  },
  {
   "cell_type": "code",
   "execution_count": 34,
   "metadata": {},
   "outputs": [
    {
     "data": {
      "text/plain": [
       "0"
      ]
     },
     "execution_count": 34,
     "metadata": {},
     "output_type": "execute_result"
    }
   ],
   "source": [
    "# Pengecekan null values pada y_test\n",
    "y_test.isnull().sum()"
   ]
  },
  {
   "cell_type": "markdown",
   "metadata": {},
   "source": [
    "Pada `y_test` tidak terdapat *missing values* sehingga tidak diperlukan *handling*"
   ]
  },
  {
   "cell_type": "code",
   "execution_count": 35,
   "metadata": {},
   "outputs": [],
   "source": [
    "# Copy ke variabel khusus untuk FE\n",
    "X_train_FE = X_train.copy()\n",
    "y_train_FE = y_train.copy()\n",
    "\n",
    "# Memisahkan kolom Numerical dan Categorical\n",
    "X_train_num_FE = X_train_FE[Xtrain_num_columns]\n",
    "X_train_cat_FE = X_train_FE[Xtrain_cat_columns]"
   ]
  },
  {
   "cell_type": "code",
   "execution_count": 36,
   "metadata": {},
   "outputs": [],
   "source": [
    "# Encoding menggunakan Label Encoder\n",
    "encoder_FE = LabelEncoder()\n",
    "encoded_FE = encoder_FE.fit_transform(np.array(X_train_cat_FE).ravel())"
   ]
  },
  {
   "cell_type": "code",
   "execution_count": 37,
   "metadata": {},
   "outputs": [
    {
     "name": "stdout",
     "output_type": "stream",
     "text": [
      "{'lab 1': 0, 'lab 2': 1}\n"
     ]
    }
   ],
   "source": [
    "# Get Mapping\n",
    "encoder_FE_name_mapping = dict(zip(encoder_FE.classes_, encoder_FE.transform(encoder_FE.classes_)))\n",
    "print(encoder_FE_name_mapping)"
   ]
  },
  {
   "cell_type": "code",
   "execution_count": 38,
   "metadata": {},
   "outputs": [
    {
     "data": {
      "text/html": [
       "<div>\n",
       "<style scoped>\n",
       "    .dataframe tbody tr th:only-of-type {\n",
       "        vertical-align: middle;\n",
       "    }\n",
       "\n",
       "    .dataframe tbody tr th {\n",
       "        vertical-align: top;\n",
       "    }\n",
       "\n",
       "    .dataframe thead th {\n",
       "        text-align: right;\n",
       "    }\n",
       "</style>\n",
       "<table border=\"1\" class=\"dataframe\">\n",
       "  <thead>\n",
       "    <tr style=\"text-align: right;\">\n",
       "      <th></th>\n",
       "      <th>v1</th>\n",
       "      <th>v2</th>\n",
       "      <th>v3</th>\n",
       "      <th>v4</th>\n",
       "      <th>v5</th>\n",
       "      <th>v6</th>\n",
       "      <th>v7</th>\n",
       "      <th>v8</th>\n",
       "      <th>target</th>\n",
       "    </tr>\n",
       "  </thead>\n",
       "  <tbody>\n",
       "    <tr>\n",
       "      <th>132</th>\n",
       "      <td>593.812500</td>\n",
       "      <td>379.625000</td>\n",
       "      <td>637.125000</td>\n",
       "      <td>489.000000</td>\n",
       "      <td>672.875000</td>\n",
       "      <td>368.375000</td>\n",
       "      <td>689.375000</td>\n",
       "      <td>3836.562500</td>\n",
       "      <td>4.57</td>\n",
       "    </tr>\n",
       "    <tr>\n",
       "      <th>110</th>\n",
       "      <td>482.562500</td>\n",
       "      <td>191.312500</td>\n",
       "      <td>559.875000</td>\n",
       "      <td>353.125000</td>\n",
       "      <td>477.000000</td>\n",
       "      <td>195.250000</td>\n",
       "      <td>638.812500</td>\n",
       "      <td>4462.062500</td>\n",
       "      <td>4.95</td>\n",
       "    </tr>\n",
       "    <tr>\n",
       "      <th>106</th>\n",
       "      <td>538.333333</td>\n",
       "      <td>207.000000</td>\n",
       "      <td>607.866667</td>\n",
       "      <td>383.800000</td>\n",
       "      <td>475.266667</td>\n",
       "      <td>204.800000</td>\n",
       "      <td>679.200000</td>\n",
       "      <td>4773.200000</td>\n",
       "      <td>5.09</td>\n",
       "    </tr>\n",
       "    <tr>\n",
       "      <th>155</th>\n",
       "      <td>573.250000</td>\n",
       "      <td>361.250000</td>\n",
       "      <td>643.125000</td>\n",
       "      <td>489.812500</td>\n",
       "      <td>666.875000</td>\n",
       "      <td>355.250000</td>\n",
       "      <td>712.312500</td>\n",
       "      <td>3943.687500</td>\n",
       "      <td>4.83</td>\n",
       "    </tr>\n",
       "    <tr>\n",
       "      <th>12</th>\n",
       "      <td>245.000000</td>\n",
       "      <td>186.285714</td>\n",
       "      <td>359.857143</td>\n",
       "      <td>320.571429</td>\n",
       "      <td>396.785714</td>\n",
       "      <td>204.000000</td>\n",
       "      <td>633.357143</td>\n",
       "      <td>4383.000000</td>\n",
       "      <td>4.85</td>\n",
       "    </tr>\n",
       "    <tr>\n",
       "      <th>...</th>\n",
       "      <td>...</td>\n",
       "      <td>...</td>\n",
       "      <td>...</td>\n",
       "      <td>...</td>\n",
       "      <td>...</td>\n",
       "      <td>...</td>\n",
       "      <td>...</td>\n",
       "      <td>...</td>\n",
       "      <td>...</td>\n",
       "    </tr>\n",
       "    <tr>\n",
       "      <th>133</th>\n",
       "      <td>620.875000</td>\n",
       "      <td>367.000000</td>\n",
       "      <td>659.000000</td>\n",
       "      <td>480.000000</td>\n",
       "      <td>668.250000</td>\n",
       "      <td>364.062500</td>\n",
       "      <td>752.187500</td>\n",
       "      <td>3772.875000</td>\n",
       "      <td>4.14</td>\n",
       "    </tr>\n",
       "    <tr>\n",
       "      <th>137</th>\n",
       "      <td>651.533333</td>\n",
       "      <td>371.600000</td>\n",
       "      <td>657.533333</td>\n",
       "      <td>485.066667</td>\n",
       "      <td>656.666667</td>\n",
       "      <td>355.533333</td>\n",
       "      <td>715.133333</td>\n",
       "      <td>3958.733333</td>\n",
       "      <td>4.69</td>\n",
       "    </tr>\n",
       "    <tr>\n",
       "      <th>72</th>\n",
       "      <td>277.357143</td>\n",
       "      <td>209.428571</td>\n",
       "      <td>407.785714</td>\n",
       "      <td>386.357143</td>\n",
       "      <td>445.857143</td>\n",
       "      <td>232.785714</td>\n",
       "      <td>754.000000</td>\n",
       "      <td>4773.000000</td>\n",
       "      <td>4.56</td>\n",
       "    </tr>\n",
       "    <tr>\n",
       "      <th>140</th>\n",
       "      <td>641.000000</td>\n",
       "      <td>383.400000</td>\n",
       "      <td>667.133333</td>\n",
       "      <td>535.133333</td>\n",
       "      <td>699.466667</td>\n",
       "      <td>371.466667</td>\n",
       "      <td>759.266667</td>\n",
       "      <td>3869.000000</td>\n",
       "      <td>4.52</td>\n",
       "    </tr>\n",
       "    <tr>\n",
       "      <th>37</th>\n",
       "      <td>279.800000</td>\n",
       "      <td>200.200000</td>\n",
       "      <td>355.333333</td>\n",
       "      <td>327.933333</td>\n",
       "      <td>395.866667</td>\n",
       "      <td>204.533333</td>\n",
       "      <td>650.666667</td>\n",
       "      <td>4551.666667</td>\n",
       "      <td>4.65</td>\n",
       "    </tr>\n",
       "  </tbody>\n",
       "</table>\n",
       "<p>120 rows × 9 columns</p>\n",
       "</div>"
      ],
      "text/plain": [
       "             v1          v2          v3          v4          v5          v6  \\\n",
       "132  593.812500  379.625000  637.125000  489.000000  672.875000  368.375000   \n",
       "110  482.562500  191.312500  559.875000  353.125000  477.000000  195.250000   \n",
       "106  538.333333  207.000000  607.866667  383.800000  475.266667  204.800000   \n",
       "155  573.250000  361.250000  643.125000  489.812500  666.875000  355.250000   \n",
       "12   245.000000  186.285714  359.857143  320.571429  396.785714  204.000000   \n",
       "..          ...         ...         ...         ...         ...         ...   \n",
       "133  620.875000  367.000000  659.000000  480.000000  668.250000  364.062500   \n",
       "137  651.533333  371.600000  657.533333  485.066667  656.666667  355.533333   \n",
       "72   277.357143  209.428571  407.785714  386.357143  445.857143  232.785714   \n",
       "140  641.000000  383.400000  667.133333  535.133333  699.466667  371.466667   \n",
       "37   279.800000  200.200000  355.333333  327.933333  395.866667  204.533333   \n",
       "\n",
       "             v7           v8  target  \n",
       "132  689.375000  3836.562500    4.57  \n",
       "110  638.812500  4462.062500    4.95  \n",
       "106  679.200000  4773.200000    5.09  \n",
       "155  712.312500  3943.687500    4.83  \n",
       "12   633.357143  4383.000000    4.85  \n",
       "..          ...          ...     ...  \n",
       "133  752.187500  3772.875000    4.14  \n",
       "137  715.133333  3958.733333    4.69  \n",
       "72   754.000000  4773.000000    4.56  \n",
       "140  759.266667  3869.000000    4.52  \n",
       "37   650.666667  4551.666667    4.65  \n",
       "\n",
       "[120 rows x 9 columns]"
      ]
     },
     "execution_count": 38,
     "metadata": {},
     "output_type": "execute_result"
    }
   ],
   "source": [
    "# Concat dengan y_train\n",
    "num_FE =  pd.concat([X_train_num_FE, pd.DataFrame(y_train)], axis=1 )\n",
    "num_FE"
   ]
  },
  {
   "cell_type": "code",
   "execution_count": 39,
   "metadata": {},
   "outputs": [
    {
     "data": {
      "text/plain": [
       "<AxesSubplot:>"
      ]
     },
     "execution_count": 39,
     "metadata": {},
     "output_type": "execute_result"
    },
    {
     "data": {
      "image/png": "[encoded data removed]",
      "text/plain": [
       "<Figure size 1000x700 with 2 Axes>"
      ]
     },
     "metadata": {},
     "output_type": "display_data"
    }
   ],
   "source": [
    "# Pembuatan heatmap untuk menunjukkan korelasi antar feature\n",
    "plt.rcParams['figure.figsize'] = [10,7]\n",
    "sns.heatmap(num_FE.corr(), annot = True, color = 'blue', cmap = 'YlGn')"
   ]
  },
  {
   "attachments": {},
   "cell_type": "markdown",
   "metadata": {},
   "source": [
    "Berdasarkan informasi di-atas maka, **tidak ada *feature* yang di-drop karena** :\n",
    "- Terdapat *multicolinearity* antar variabel yang kuat\n",
    "- Oleh karena itu, model yang nanti digunkan akan di-fokuskan terhadap model yang dapat menangani *multicolinearity*"
   ]
  },
  {
   "cell_type": "code",
   "execution_count": 40,
   "metadata": {},
   "outputs": [],
   "source": [
    "# Definisi filter kemudian fit encoded_FE dan y train\n",
    "FE_cat_filter = SelectKBest(score_func=f_classif, k='all')\n",
    "score_cat = FE_cat_filter.fit(encoded_FE.reshape(-1,1), y_train)"
   ]
  },
  {
   "cell_type": "code",
   "execution_count": 41,
   "metadata": {},
   "outputs": [
    {
     "name": "stdout",
     "output_type": "stream",
     "text": [
      "Score dari feature adalah :  [1.2139715]\n",
      "Pvalue dari feature adalah :  [0.23159601]\n"
     ]
    }
   ],
   "source": [
    "# Selanjutnya adalah print score dari feature sample_type\n",
    "print('Score dari feature adalah : ', score_cat.scores_)\n",
    "print('Pvalue dari feature adalah : ', score_cat.pvalues_)"
   ]
  },
  {
   "cell_type": "code",
   "execution_count": 42,
   "metadata": {},
   "outputs": [],
   "source": [
    "# # Drop sample_type pada X_train dan X_test\n",
    "X_train.drop(columns=['sample_type'], inplace=True)\n",
    "X_test.drop(columns=['sample_type'], inplace=True)"
   ]
  },
  {
   "cell_type": "code",
   "execution_count": 43,
   "metadata": {},
   "outputs": [
    {
     "name": "stdout",
     "output_type": "stream",
     "text": [
      "(120, 8)\n"
     ]
    }
   ],
   "source": [
    "# Print Shape X_train\n",
    "print(X_train.shape)"
   ]
  },
  {
   "attachments": {},
   "cell_type": "markdown",
   "metadata": {},
   "source": [
    "Dari informasi diatas dapat disimpulkan bahwa ***feature* yang digunakan untuk *training* model adalah 8 *feature* yaitu ['v1','v2','v3', 'v4', 'v5', 'v6', 'v7', 'v8']**"
   ]
  },
  {
   "cell_type": "code",
   "execution_count": 44,
   "metadata": {},
   "outputs": [
    {
     "name": "stdout",
     "output_type": "stream",
     "text": [
      "Feature  v1\n",
      "Skewness  0.5050466781099159\n",
      "------------------------------\n",
      "Feature  v2\n",
      "Skewness  1.288427805475792\n",
      "------------------------------\n",
      "Feature  v3\n",
      "Skewness  0.46937897344290924\n",
      "------------------------------\n",
      "Feature  v4\n",
      "Skewness  1.0541982448963638\n",
      "------------------------------\n",
      "Feature  v5\n",
      "Skewness  1.1186125913982807\n",
      "------------------------------\n",
      "Feature  v6\n",
      "Skewness  1.1891214197320026\n",
      "------------------------------\n",
      "Feature  v7\n",
      "Skewness  -0.2215950839967901\n",
      "------------------------------\n",
      "Feature  v8\n",
      "Skewness  -0.6921436273153805\n",
      "------------------------------\n"
     ]
    }
   ],
   "source": [
    "# Cek Skew dari Setiap Feature\n",
    "num_columns_final = ['v1', 'v2', 'v3', 'v4', 'v5', 'v6', 'v7', 'v8']\n",
    "for i in num_columns_final:\n",
    "    print('Feature ', i)\n",
    "    print('Skewness ', X_train[i].skew())\n",
    "    print('-'*30)"
   ]
  },
  {
   "attachments": {},
   "cell_type": "markdown",
   "metadata": {},
   "source": [
    "**Karena terdapat feature yang *extreme skew*, maka saya menggunakan `RobustScaler`**"
   ]
  },
  {
   "cell_type": "code",
   "execution_count": 45,
   "metadata": {},
   "outputs": [],
   "source": [
    "# Definisi kolom final dan scaler\n",
    "num_columns_final = ['v1', 'v2', 'v3', 'v4', 'v5', 'v6', 'v7', 'v8']\n",
    "numerical_transformer = RobustScaler()\n"
   ]
  },
  {
   "cell_type": "code",
   "execution_count": 46,
   "metadata": {},
   "outputs": [],
   "source": [
    "# Pipeline Column Transformer\n",
    "preprocessor = ColumnTransformer(\n",
    "    transformers=[\n",
    "        (\"num\", numerical_transformer, num_columns_final),\n",
    "    ]\n",
    ")"
   ]
  },
  {
   "cell_type": "code",
   "execution_count": 47,
   "metadata": {},
   "outputs": [],
   "source": [
    "# Concat X_train dan y_train\n",
    "X_y_train = pd.concat([X_train,y_train], axis=1)\n",
    "X_y_train.reset_index(drop=True, inplace=True)"
   ]
  },
  {
   "cell_type": "code",
   "execution_count": 48,
   "metadata": {},
   "outputs": [
    {
     "data": {
      "text/html": [
       "<div>\n",
       "<style scoped>\n",
       "    .dataframe tbody tr th:only-of-type {\n",
       "        vertical-align: middle;\n",
       "    }\n",
       "\n",
       "    .dataframe tbody tr th {\n",
       "        vertical-align: top;\n",
       "    }\n",
       "\n",
       "    .dataframe thead th {\n",
       "        text-align: right;\n",
       "    }\n",
       "</style>\n",
       "<table border=\"1\" class=\"dataframe\">\n",
       "  <thead>\n",
       "    <tr style=\"text-align: right;\">\n",
       "      <th></th>\n",
       "      <th>v1</th>\n",
       "      <th>v2</th>\n",
       "      <th>v3</th>\n",
       "      <th>v4</th>\n",
       "      <th>v5</th>\n",
       "      <th>v6</th>\n",
       "      <th>v7</th>\n",
       "      <th>v8</th>\n",
       "      <th>target</th>\n",
       "    </tr>\n",
       "  </thead>\n",
       "  <tbody>\n",
       "    <tr>\n",
       "      <th>0</th>\n",
       "      <td>593.812500</td>\n",
       "      <td>379.625000</td>\n",
       "      <td>637.125000</td>\n",
       "      <td>489.000000</td>\n",
       "      <td>672.875000</td>\n",
       "      <td>368.375000</td>\n",
       "      <td>689.375000</td>\n",
       "      <td>3836.562500</td>\n",
       "      <td>4.57</td>\n",
       "    </tr>\n",
       "    <tr>\n",
       "      <th>1</th>\n",
       "      <td>482.562500</td>\n",
       "      <td>191.312500</td>\n",
       "      <td>559.875000</td>\n",
       "      <td>353.125000</td>\n",
       "      <td>477.000000</td>\n",
       "      <td>195.250000</td>\n",
       "      <td>638.812500</td>\n",
       "      <td>4462.062500</td>\n",
       "      <td>4.95</td>\n",
       "    </tr>\n",
       "    <tr>\n",
       "      <th>2</th>\n",
       "      <td>538.333333</td>\n",
       "      <td>207.000000</td>\n",
       "      <td>607.866667</td>\n",
       "      <td>383.800000</td>\n",
       "      <td>475.266667</td>\n",
       "      <td>204.800000</td>\n",
       "      <td>679.200000</td>\n",
       "      <td>4773.200000</td>\n",
       "      <td>5.09</td>\n",
       "    </tr>\n",
       "    <tr>\n",
       "      <th>3</th>\n",
       "      <td>573.250000</td>\n",
       "      <td>361.250000</td>\n",
       "      <td>643.125000</td>\n",
       "      <td>489.812500</td>\n",
       "      <td>666.875000</td>\n",
       "      <td>355.250000</td>\n",
       "      <td>712.312500</td>\n",
       "      <td>3943.687500</td>\n",
       "      <td>4.83</td>\n",
       "    </tr>\n",
       "    <tr>\n",
       "      <th>4</th>\n",
       "      <td>245.000000</td>\n",
       "      <td>186.285714</td>\n",
       "      <td>359.857143</td>\n",
       "      <td>320.571429</td>\n",
       "      <td>396.785714</td>\n",
       "      <td>204.000000</td>\n",
       "      <td>633.357143</td>\n",
       "      <td>4383.000000</td>\n",
       "      <td>4.85</td>\n",
       "    </tr>\n",
       "    <tr>\n",
       "      <th>...</th>\n",
       "      <td>...</td>\n",
       "      <td>...</td>\n",
       "      <td>...</td>\n",
       "      <td>...</td>\n",
       "      <td>...</td>\n",
       "      <td>...</td>\n",
       "      <td>...</td>\n",
       "      <td>...</td>\n",
       "      <td>...</td>\n",
       "    </tr>\n",
       "    <tr>\n",
       "      <th>115</th>\n",
       "      <td>620.875000</td>\n",
       "      <td>367.000000</td>\n",
       "      <td>659.000000</td>\n",
       "      <td>480.000000</td>\n",
       "      <td>668.250000</td>\n",
       "      <td>364.062500</td>\n",
       "      <td>752.187500</td>\n",
       "      <td>3772.875000</td>\n",
       "      <td>4.14</td>\n",
       "    </tr>\n",
       "    <tr>\n",
       "      <th>116</th>\n",
       "      <td>651.533333</td>\n",
       "      <td>371.600000</td>\n",
       "      <td>657.533333</td>\n",
       "      <td>485.066667</td>\n",
       "      <td>656.666667</td>\n",
       "      <td>355.533333</td>\n",
       "      <td>715.133333</td>\n",
       "      <td>3958.733333</td>\n",
       "      <td>4.69</td>\n",
       "    </tr>\n",
       "    <tr>\n",
       "      <th>117</th>\n",
       "      <td>277.357143</td>\n",
       "      <td>209.428571</td>\n",
       "      <td>407.785714</td>\n",
       "      <td>386.357143</td>\n",
       "      <td>445.857143</td>\n",
       "      <td>232.785714</td>\n",
       "      <td>754.000000</td>\n",
       "      <td>4773.000000</td>\n",
       "      <td>4.56</td>\n",
       "    </tr>\n",
       "    <tr>\n",
       "      <th>118</th>\n",
       "      <td>641.000000</td>\n",
       "      <td>383.400000</td>\n",
       "      <td>667.133333</td>\n",
       "      <td>535.133333</td>\n",
       "      <td>699.466667</td>\n",
       "      <td>371.466667</td>\n",
       "      <td>759.266667</td>\n",
       "      <td>3869.000000</td>\n",
       "      <td>4.52</td>\n",
       "    </tr>\n",
       "    <tr>\n",
       "      <th>119</th>\n",
       "      <td>279.800000</td>\n",
       "      <td>200.200000</td>\n",
       "      <td>355.333333</td>\n",
       "      <td>327.933333</td>\n",
       "      <td>395.866667</td>\n",
       "      <td>204.533333</td>\n",
       "      <td>650.666667</td>\n",
       "      <td>4551.666667</td>\n",
       "      <td>4.65</td>\n",
       "    </tr>\n",
       "  </tbody>\n",
       "</table>\n",
       "<p>120 rows × 9 columns</p>\n",
       "</div>"
      ],
      "text/plain": [
       "             v1          v2          v3          v4          v5          v6  \\\n",
       "0    593.812500  379.625000  637.125000  489.000000  672.875000  368.375000   \n",
       "1    482.562500  191.312500  559.875000  353.125000  477.000000  195.250000   \n",
       "2    538.333333  207.000000  607.866667  383.800000  475.266667  204.800000   \n",
       "3    573.250000  361.250000  643.125000  489.812500  666.875000  355.250000   \n",
       "4    245.000000  186.285714  359.857143  320.571429  396.785714  204.000000   \n",
       "..          ...         ...         ...         ...         ...         ...   \n",
       "115  620.875000  367.000000  659.000000  480.000000  668.250000  364.062500   \n",
       "116  651.533333  371.600000  657.533333  485.066667  656.666667  355.533333   \n",
       "117  277.357143  209.428571  407.785714  386.357143  445.857143  232.785714   \n",
       "118  641.000000  383.400000  667.133333  535.133333  699.466667  371.466667   \n",
       "119  279.800000  200.200000  355.333333  327.933333  395.866667  204.533333   \n",
       "\n",
       "             v7           v8  target  \n",
       "0    689.375000  3836.562500    4.57  \n",
       "1    638.812500  4462.062500    4.95  \n",
       "2    679.200000  4773.200000    5.09  \n",
       "3    712.312500  3943.687500    4.83  \n",
       "4    633.357143  4383.000000    4.85  \n",
       "..          ...          ...     ...  \n",
       "115  752.187500  3772.875000    4.14  \n",
       "116  715.133333  3958.733333    4.69  \n",
       "117  754.000000  4773.000000    4.56  \n",
       "118  759.266667  3869.000000    4.52  \n",
       "119  650.666667  4551.666667    4.65  \n",
       "\n",
       "[120 rows x 9 columns]"
      ]
     },
     "execution_count": 48,
     "metadata": {},
     "output_type": "execute_result"
    }
   ],
   "source": [
    "# Menampilkan hasil concat\n",
    "X_y_train"
   ]
  },
  {
   "attachments": {},
   "cell_type": "markdown",
   "metadata": {},
   "source": [
    "Kemudian saya melakukan SMOTER dengan parameter sebagai berikut :\n",
    "- *Sampling Method Extreme* -> Digunakan agar algoritma bisa secara *aggresive* melakukan *oversampling*\n",
    "- *Replace True* -> Digunakan agar data *outlier* yang dibuang saat proses SMOTER bisa diganti dengan data yang memiliki statistik mirip"
   ]
  },
  {
   "cell_type": "code",
   "execution_count": 49,
   "metadata": {},
   "outputs": [
    {
     "name": "stderr",
     "output_type": "stream",
     "text": [
      "dist_matrix: 100%|##########| 3/3 [00:00<00:00, 851.12it/s]\n",
      "synth_matrix: 100%|##########| 3/3 [00:00<00:00, 17.58it/s]\n"
     ]
    }
   ],
   "source": [
    "# Melakukan SMOTER\n",
    "X_y_smogn = smogn.smoter(data = X_y_train, y = 'target', rel_coef=1.3, replace = True, rel_thres = 1, samp_method= 'extreme')"
   ]
  },
  {
   "cell_type": "code",
   "execution_count": 50,
   "metadata": {},
   "outputs": [
    {
     "name": "stdout",
     "output_type": "stream",
     "text": [
      "Len sebelum SMOTER  120\n",
      "Len sesudah SMOTER  234\n"
     ]
    }
   ],
   "source": [
    "# Print len sebelum dan sesudah SMOTER\n",
    "print('Len sebelum SMOTER ', len(X_y_train))\n",
    "print('Len sesudah SMOTER ', len(X_y_smogn))"
   ]
  },
  {
   "attachments": {},
   "cell_type": "markdown",
   "metadata": {},
   "source": [
    "Dari informasi diatas dapat disimpulkan bahwa data sudah bertambah **dari awalnya 120 menjadi 234**. Selanjutnya adalah *split* data hasil SMOTER"
   ]
  },
  {
   "cell_type": "code",
   "execution_count": 51,
   "metadata": {},
   "outputs": [],
   "source": [
    "# Split data hasil SMOTER\n",
    "X_train_final = X_y_smogn.drop(['target'], axis=1)\n",
    "X_test_final = X_test.copy()\n",
    "y_train= X_y_smogn['target']"
   ]
  },
  {
   "cell_type": "code",
   "execution_count": 52,
   "metadata": {},
   "outputs": [],
   "source": [
    "# Model Definition\n",
    "\n",
    "# Pipeline Linear Regression\n",
    "model_linreg = Pipeline(\n",
    "    steps=[(\"preprocessor\", preprocessor), (\"classifier\", LinearRegression())]\n",
    ")\n",
    "# Pipeline KNN\n",
    "model_knn = Pipeline(\n",
    "    steps=[(\"preprocessor\", preprocessor), (\"classifier\", KNeighborsRegressor())]\n",
    ")\n",
    "# Pipeline SVR\n",
    "model_svr = Pipeline(\n",
    "    steps=[(\"preprocessor\", preprocessor), (\"classifier\", SVR())]\n",
    ")\n",
    "# Pipeline Bayes\n",
    "model_bayes = Pipeline(\n",
    "    steps=[(\"preprocessor\", preprocessor), (\"classifier\", BayesianRidge())]\n",
    ")\n",
    "# Pipeline Decision Tree\n",
    "model_tree = Pipeline(\n",
    "    steps=[(\"preprocessor\", preprocessor), (\"classifier\", DecisionTreeRegressor(random_state=2))]\n",
    ")\n",
    "# Pipeline Random Forest\n",
    "model_forest = Pipeline(\n",
    "    steps=[(\"preprocessor\", preprocessor), (\"classifier\", RandomForestRegressor(random_state=3))]\n",
    ")\n",
    "# Pipeline XGBoost\n",
    "model_xgboost = Pipeline(\n",
    "    steps=[(\"preprocessor\", preprocessor), (\"classifier\", GradientBoostingRegressor(random_state=4))]\n",
    ")\n",
    "# Pipeline ADABoost\n",
    "model_ada = Pipeline(\n",
    "    steps=[(\"preprocessor\", preprocessor), (\"classifier\", AdaBoostRegressor(random_state=5))]\n",
    ")\n"
   ]
  },
  {
   "cell_type": "code",
   "execution_count": 53,
   "metadata": {},
   "outputs": [
    {
     "data": {
      "text/plain": [
       "Pipeline(steps=[('preprocessor',\n",
       "                 ColumnTransformer(transformers=[('num', RobustScaler(),\n",
       "                                                  ['v1', 'v2', 'v3', 'v4', 'v5',\n",
       "                                                   'v6', 'v7', 'v8'])])),\n",
       "                ('classifier', LinearRegression())])"
      ]
     },
     "execution_count": 53,
     "metadata": {},
     "output_type": "execute_result"
    }
   ],
   "source": [
    "# Fit X_train & y_train ke model\n",
    "model_linreg.fit(X_train_final, y_train)"
   ]
  },
  {
   "cell_type": "code",
   "execution_count": 54,
   "metadata": {},
   "outputs": [],
   "source": [
    "# Predict y_train & y_test\n",
    "y_train_pred_linreg = model_linreg.predict(X_train_final)\n",
    "y_test_pred_linreg = model_linreg.predict(X_test_final)"
   ]
  },
  {
   "cell_type": "code",
   "execution_count": 55,
   "metadata": {},
   "outputs": [
    {
     "name": "stdout",
     "output_type": "stream",
     "text": [
      "Test-Set\n",
      "Nilai min test-set  4.34\n",
      "Nilai max test-set  5.26\n",
      "Nilai rata-rata test-set  4.77\n",
      "------------------------------\n",
      "Pred-Set\n",
      "Nilai min pred  4.16\n",
      "Nilai max pred  5.2\n",
      "Nilai rata-rata pred  4.68\n"
     ]
    }
   ],
   "source": [
    "# Print nilai min, max dari test-set\n",
    "print('Test-Set')\n",
    "print('Nilai min test-set ', round(min(y_test),2))\n",
    "print('Nilai max test-set ', round(max(y_test),2))\n",
    "print('Nilai rata-rata test-set ', round(y_test.mean(),2))\n",
    "print('-'*30)\n",
    "print('Pred-Set')\n",
    "print('Nilai min pred ', round(min(y_test_pred_linreg),2))\n",
    "print('Nilai max pred ', round(max(y_test_pred_linreg),2))\n",
    "print('Nilai rata-rata pred ', round(y_test_pred_linreg.mean(),2))"
   ]
  },
  {
   "cell_type": "code",
   "execution_count": 56,
   "metadata": {},
   "outputs": [
    {
     "data": {
      "text/html": [
       "<div>\n",
       "<style scoped>\n",
       "    .dataframe tbody tr th:only-of-type {\n",
       "        vertical-align: middle;\n",
       "    }\n",
       "\n",
       "    .dataframe tbody tr th {\n",
       "        vertical-align: top;\n",
       "    }\n",
       "\n",
       "    .dataframe thead th {\n",
       "        text-align: right;\n",
       "    }\n",
       "</style>\n",
       "<table border=\"1\" class=\"dataframe\">\n",
       "  <thead>\n",
       "    <tr style=\"text-align: right;\">\n",
       "      <th></th>\n",
       "      <th>indicator</th>\n",
       "      <th>counts</th>\n",
       "    </tr>\n",
       "  </thead>\n",
       "  <tbody>\n",
       "    <tr>\n",
       "      <th>1</th>\n",
       "      <td>lower</td>\n",
       "      <td>26</td>\n",
       "    </tr>\n",
       "    <tr>\n",
       "      <th>0</th>\n",
       "      <td>higher</td>\n",
       "      <td>14</td>\n",
       "    </tr>\n",
       "  </tbody>\n",
       "</table>\n",
       "</div>"
      ],
      "text/plain": [
       "  indicator  counts\n",
       "1     lower      26\n",
       "0    higher      14"
      ]
     },
     "execution_count": 56,
     "metadata": {},
     "output_type": "execute_result"
    }
   ],
   "source": [
    "# Membuat dataframe utk melihat jumlah prediksi yang lebih dan jumlah prediksi yang kurang\n",
    "linreg_pred = pd.DataFrame({'actual': y_test,\n",
    "                'prediction' : y_test_pred_linreg})\n",
    "linreg_pred['indicator'] = np.where(linreg_pred['prediction'] > linreg_pred['actual'], 'higher', 'lower')\n",
    "linreg_pred_group = linreg_pred.groupby('indicator').size().reset_index(name=\"counts\").sort_values(by= 'counts',ascending=False)\n",
    "linreg_pred_group"
   ]
  },
  {
   "attachments": {},
   "cell_type": "markdown",
   "metadata": {},
   "source": [
    "Dari informasi diatas dapat disimpulkan bahwa :\n",
    "- Rata-rata prediksi lebih rendah dari pada aktual\n",
    "- Model memprediksi nilai nutrisi dengan *range* 4,16 - 5,2 sedangkan aktual yang di gunakan untuk *test* ada pada *range* 4,34 - 5,26\n",
    "- Model cenderung memprediksi lebih rendah dari nilai aktual"
   ]
  },
  {
   "cell_type": "code",
   "execution_count": 57,
   "metadata": {},
   "outputs": [
    {
     "name": "stdout",
     "output_type": "stream",
     "text": [
      "MAE - Mean - Cross Validation :  0.1468934629615098\n",
      "MAE - Std - Cross Validation :  0.03750735461155653\n",
      "MAE - Range of Train-Set :  0.10938610834995327 - 0.1844008175730663\n"
     ]
    }
   ],
   "source": [
    "# Model Evaluation - Train Set\n",
    "scores_linreg=cross_val_score(model_linreg,X_train_final,y_train,cv=5,scoring=\"neg_mean_absolute_error\")*-1\n",
    "\n",
    "print('MAE - Mean - Cross Validation : ', scores_linreg.mean())\n",
    "print('MAE - Std - Cross Validation : ', scores_linreg.std())\n",
    "print('MAE - Range of Train-Set : ', (scores_linreg.mean()-scores_linreg.std()) , '-', (scores_linreg.mean()+scores_linreg.std()))"
   ]
  },
  {
   "cell_type": "code",
   "execution_count": 58,
   "metadata": {},
   "outputs": [
    {
     "name": "stdout",
     "output_type": "stream",
     "text": [
      "Linear Regression\n",
      "MAE train =  0.11797475516058473\n",
      "MAE test =  0.2015885799133562\n"
     ]
    }
   ],
   "source": [
    "# Evaluasi berdasarkan metrics\n",
    "mae_train_linreg = mean_absolute_error(y_train, y_train_pred_linreg)\n",
    "mae_test_linreg = mean_absolute_error(y_test, y_test_pred_linreg)\n",
    "\n",
    "print('Linear Regression')\n",
    "print('MAE train = ', mae_train_linreg)\n",
    "print('MAE test = ', mae_test_linreg)"
   ]
  },
  {
   "attachments": {},
   "cell_type": "markdown",
   "metadata": {},
   "source": [
    "Dari informasi diatas dapat disimpulkan bahwa :\n",
    "\n",
    "- Model termasuk dalam kategori ***overfit*** karena nilai MAE train lebih kecil dari pada MAE test\n",
    "- Setelah dilakukan *validasi* dengan *cross-validation*,  nilai MAE tidak berbeda jauh dengan 1x *training*. **Artinya nilai MAE pada *train-set* valid**\n",
    "- Model ini memiliki error sejumlah +- 0,20. Contohnya jika hasil prediksi nutrisi adalah 4 maka ada kemungkinan nutrisi aktualnya 4,20 atau bisa juga 3,80"
   ]
  },
  {
   "cell_type": "code",
   "execution_count": 59,
   "metadata": {},
   "outputs": [
    {
     "data": {
      "text/plain": [
       "Pipeline(steps=[('preprocessor',\n",
       "                 ColumnTransformer(transformers=[('num', RobustScaler(),\n",
       "                                                  ['v1', 'v2', 'v3', 'v4', 'v5',\n",
       "                                                   'v6', 'v7', 'v8'])])),\n",
       "                ('classifier', KNeighborsRegressor())])"
      ]
     },
     "execution_count": 59,
     "metadata": {},
     "output_type": "execute_result"
    }
   ],
   "source": [
    "# Fit X_train & y_train ke model\n",
    "model_knn.fit(X_train_final, y_train)"
   ]
  },
  {
   "attachments": {},
   "cell_type": "markdown",
   "metadata": {},
   "source": [
    "Kemudian prediksi pada `X_train_final` dan `X_test_final` untuk persiapan evaluasi"
   ]
  },
  {
   "cell_type": "code",
   "execution_count": 60,
   "metadata": {},
   "outputs": [],
   "source": [
    "# Predict y_train & y_test\n",
    "y_train_pred_knn = model_knn.predict(X_train_final)\n",
    "y_test_pred_knn = model_knn.predict(X_test_final)"
   ]
  },
  {
   "cell_type": "code",
   "execution_count": 61,
   "metadata": {},
   "outputs": [
    {
     "name": "stdout",
     "output_type": "stream",
     "text": [
      "Test-Set\n",
      "Nilai min test-set  4.34\n",
      "Nilai max test-set  5.26\n",
      "Nilai rata-rata test-set  4.77\n",
      "------------------------------\n",
      "Pred-Set\n",
      "Nilai min pred  4.49\n",
      "Nilai max pred  4.99\n",
      "Nilai rata-rata pred  4.72\n"
     ]
    }
   ],
   "source": [
    "# Print nilai min, max dari test-set\n",
    "print('Test-Set')\n",
    "print('Nilai min test-set ', round(min(y_test),2))\n",
    "print('Nilai max test-set ', round(max(y_test),2))\n",
    "print('Nilai rata-rata test-set ', round(y_test.mean(),2))\n",
    "print('-'*30)\n",
    "print('Pred-Set')\n",
    "print('Nilai min pred ', round(min(y_test_pred_knn),2))\n",
    "print('Nilai max pred ', round(max(y_test_pred_knn),2))\n",
    "print('Nilai rata-rata pred ', round(y_test_pred_knn.mean(),2))"
   ]
  },
  {
   "cell_type": "code",
   "execution_count": 62,
   "metadata": {},
   "outputs": [
    {
     "data": {
      "text/html": [
       "<div>\n",
       "<style scoped>\n",
       "    .dataframe tbody tr th:only-of-type {\n",
       "        vertical-align: middle;\n",
       "    }\n",
       "\n",
       "    .dataframe tbody tr th {\n",
       "        vertical-align: top;\n",
       "    }\n",
       "\n",
       "    .dataframe thead th {\n",
       "        text-align: right;\n",
       "    }\n",
       "</style>\n",
       "<table border=\"1\" class=\"dataframe\">\n",
       "  <thead>\n",
       "    <tr style=\"text-align: right;\">\n",
       "      <th></th>\n",
       "      <th>indicator</th>\n",
       "      <th>counts</th>\n",
       "    </tr>\n",
       "  </thead>\n",
       "  <tbody>\n",
       "    <tr>\n",
       "      <th>1</th>\n",
       "      <td>lower</td>\n",
       "      <td>23</td>\n",
       "    </tr>\n",
       "    <tr>\n",
       "      <th>0</th>\n",
       "      <td>higher</td>\n",
       "      <td>17</td>\n",
       "    </tr>\n",
       "  </tbody>\n",
       "</table>\n",
       "</div>"
      ],
      "text/plain": [
       "  indicator  counts\n",
       "1     lower      23\n",
       "0    higher      17"
      ]
     },
     "execution_count": 62,
     "metadata": {},
     "output_type": "execute_result"
    }
   ],
   "source": [
    "# Membuat dataframe utk melihat jumlah prediksi yang lebih dan jumlah prediksi yang kurang\n",
    "knn_pred = pd.DataFrame({'actual': y_test,\n",
    "                'prediction' : y_test_pred_knn})\n",
    "knn_pred['indicator'] = np.where(knn_pred['prediction'] > knn_pred['actual'], 'higher', 'lower')\n",
    "knn_pred_group = knn_pred.groupby('indicator').size().reset_index(name=\"counts\").sort_values(by= 'counts',ascending=False)\n",
    "knn_pred_group"
   ]
  },
  {
   "attachments": {},
   "cell_type": "markdown",
   "metadata": {},
   "source": [
    "Dari informasi diatas dapat disimpulkan bahwa :\n",
    "- Rata-rata prediksi lebih rendah dari pada aktual\n",
    "- Model memprediksi nilai nutrisi dengan *range* 4,49 - 4,99 sedangkan aktual yang di gunakan untuk *test* ada pada *range* 4,34 - 5,26\n",
    "- Model cenderung memprediksi lebih rendah dari nilai aktual"
   ]
  },
  {
   "cell_type": "code",
   "execution_count": 63,
   "metadata": {},
   "outputs": [
    {
     "name": "stdout",
     "output_type": "stream",
     "text": [
      "MAE - Mean - Cross Validation :  0.13069156169038\n",
      "MAE - Std - Cross Validation :  0.0773460358323251\n",
      "MAE - Range of Train-Set :  0.05334552585805488 - 0.2080375975227051\n"
     ]
    }
   ],
   "source": [
    "# Model Evaluation - Train Set\n",
    "scores_knn=cross_val_score(model_knn,X_train_final,y_train,cv=5,scoring=\"neg_mean_absolute_error\")*-1\n",
    "\n",
    "print('MAE - Mean - Cross Validation : ', scores_knn.mean())\n",
    "print('MAE - Std - Cross Validation : ', scores_knn.std())\n",
    "print('MAE - Range of Train-Set : ', (scores_knn.mean()-scores_knn.std()) , '-', (scores_knn.mean()+scores_knn.std()))"
   ]
  },
  {
   "cell_type": "code",
   "execution_count": 64,
   "metadata": {},
   "outputs": [
    {
     "name": "stdout",
     "output_type": "stream",
     "text": [
      "KNN\n",
      "MAE train =  0.06727369486988474\n",
      "MAE test =  0.14404777552746875\n"
     ]
    }
   ],
   "source": [
    "# Evaluasi berdasarkan metrics\n",
    "mae_train_knn = mean_absolute_error(y_train, y_train_pred_knn)\n",
    "mae_test_knn = mean_absolute_error(y_test, y_test_pred_knn)\n",
    "\n",
    "print('KNN')\n",
    "print('MAE train = ', mae_train_knn)\n",
    "print('MAE test = ', mae_test_knn)"
   ]
  },
  {
   "attachments": {},
   "cell_type": "markdown",
   "metadata": {},
   "source": [
    "Dari informasi diatas dapat disimpulkan bahwa :\n",
    "\n",
    "- Model termasuk dalam kategori ***overfit*** karena nilai MAE train lebih kecil dari pada MAE Test\n",
    "- Setelah dilakukan *validasi* dengan *cross-validation*, nilai MAE berbeda jauh dengan 1x *training*. **Artinya nilai MAE pada *train-set* tidak valid**\n",
    "- Model ini memiliki error sejumlah +- 0,14. Contohnya jika hasil prediksi nutrisi adalah 4 maka ada kemungkinan nutrisi aktualnya 4,14 atau bisa juga 3,86"
   ]
  },
  {
   "cell_type": "code",
   "execution_count": 65,
   "metadata": {},
   "outputs": [
    {
     "data": {
      "text/plain": [
       "Pipeline(steps=[('preprocessor',\n",
       "                 ColumnTransformer(transformers=[('num', RobustScaler(),\n",
       "                                                  ['v1', 'v2', 'v3', 'v4', 'v5',\n",
       "                                                   'v6', 'v7', 'v8'])])),\n",
       "                ('classifier', SVR())])"
      ]
     },
     "execution_count": 65,
     "metadata": {},
     "output_type": "execute_result"
    }
   ],
   "source": [
    "# Fit X_train & y_train ke model\n",
    "model_svr.fit(X_train_final, y_train)"
   ]
  },
  {
   "cell_type": "code",
   "execution_count": 66,
   "metadata": {},
   "outputs": [],
   "source": [
    "# Predict y_train & y_test\n",
    "y_train_pred_svr = model_svr.predict(X_train_final)\n",
    "y_test_pred_svr = model_svr.predict(X_test_final)"
   ]
  },
  {
   "cell_type": "code",
   "execution_count": 67,
   "metadata": {},
   "outputs": [
    {
     "name": "stdout",
     "output_type": "stream",
     "text": [
      "Test-Set\n",
      "Nilai min test-set  4.34\n",
      "Nilai max test-set  5.26\n",
      "Nilai rata-rata test-set  4.77\n",
      "------------------------------\n",
      "Pred-Set\n",
      "Nilai min pred  4.42\n",
      "Nilai max pred  4.97\n",
      "Nilai rata-rata pred  4.74\n"
     ]
    }
   ],
   "source": [
    "# Print nilai min, max dari test-set\n",
    "print('Test-Set')\n",
    "print('Nilai min test-set ', round(min(y_test),2))\n",
    "print('Nilai max test-set ', round(max(y_test),2))\n",
    "print('Nilai rata-rata test-set ', round(y_test.mean(),2))\n",
    "print('-'*30)\n",
    "print('Pred-Set')\n",
    "print('Nilai min pred ', round(min(y_test_pred_svr),2))\n",
    "print('Nilai max pred ', round(max(y_test_pred_svr),2))\n",
    "print('Nilai rata-rata pred ', round(y_test_pred_svr.mean(),2))"
   ]
  },
  {
   "cell_type": "code",
   "execution_count": 68,
   "metadata": {},
   "outputs": [
    {
     "data": {
      "text/html": [
       "<div>\n",
       "<style scoped>\n",
       "    .dataframe tbody tr th:only-of-type {\n",
       "        vertical-align: middle;\n",
       "    }\n",
       "\n",
       "    .dataframe tbody tr th {\n",
       "        vertical-align: top;\n",
       "    }\n",
       "\n",
       "    .dataframe thead th {\n",
       "        text-align: right;\n",
       "    }\n",
       "</style>\n",
       "<table border=\"1\" class=\"dataframe\">\n",
       "  <thead>\n",
       "    <tr style=\"text-align: right;\">\n",
       "      <th></th>\n",
       "      <th>indicator</th>\n",
       "      <th>counts</th>\n",
       "    </tr>\n",
       "  </thead>\n",
       "  <tbody>\n",
       "    <tr>\n",
       "      <th>1</th>\n",
       "      <td>lower</td>\n",
       "      <td>21</td>\n",
       "    </tr>\n",
       "    <tr>\n",
       "      <th>0</th>\n",
       "      <td>higher</td>\n",
       "      <td>19</td>\n",
       "    </tr>\n",
       "  </tbody>\n",
       "</table>\n",
       "</div>"
      ],
      "text/plain": [
       "  indicator  counts\n",
       "1     lower      21\n",
       "0    higher      19"
      ]
     },
     "execution_count": 68,
     "metadata": {},
     "output_type": "execute_result"
    }
   ],
   "source": [
    "# Membuat dataframe utk melihat jumlah prediksi yang lebih dan jumlah prediksi yang kurang\n",
    "svr_pred = pd.DataFrame({'actual': y_test,\n",
    "                'prediction' : y_test_pred_svr})\n",
    "svr_pred['indicator'] = np.where(svr_pred['prediction'] > svr_pred['actual'], 'higher', 'lower')\n",
    "svr_pred_group = svr_pred.groupby('indicator').size().reset_index(name=\"counts\").sort_values(by= 'counts',ascending=False)\n",
    "svr_pred_group"
   ]
  },
  {
   "attachments": {},
   "cell_type": "markdown",
   "metadata": {},
   "source": [
    "Dari informasi diatas dapat disimpulkan bahwa :\n",
    "- Rata-rata prediksi lebih rendah dari pada aktual\n",
    "- Model memprediksi nilai nutrisi dengan *range* 4,42 - 4,97 sedangkan aktual yang di gunakan untuk *test* ada pada *range* 4,34 - 5,26\n",
    "- Model cenderung memprediksi lebih rendah dari nilai aktual"
   ]
  },
  {
   "cell_type": "code",
   "execution_count": 69,
   "metadata": {},
   "outputs": [
    {
     "name": "stdout",
     "output_type": "stream",
     "text": [
      "MAE - Mean - Cross Validation :  0.12807975208100536\n",
      "MAE - Std - Cross Validation :  0.024453236526519675\n",
      "MAE - Range of Train-Set :  0.10362651555448568 - 0.15253298860752504\n"
     ]
    }
   ],
   "source": [
    "# Model Evaluation - Train Set\n",
    "scores_svr=cross_val_score(model_svr,X_train_final,y_train,cv=5,scoring=\"neg_mean_absolute_error\")*-1\n",
    "\n",
    "print('MAE - Mean - Cross Validation : ', scores_svr.mean())\n",
    "print('MAE - Std - Cross Validation : ', scores_svr.std())\n",
    "print('MAE - Range of Train-Set : ', (scores_svr.mean()-scores_svr.std()) , '-', (scores_svr.mean()+scores_svr.std()))"
   ]
  },
  {
   "cell_type": "code",
   "execution_count": 70,
   "metadata": {},
   "outputs": [
    {
     "name": "stdout",
     "output_type": "stream",
     "text": [
      "SVR\n",
      "MAE train =  0.11272995425247073\n",
      "MAE test =  0.14286209606105643\n"
     ]
    }
   ],
   "source": [
    "# Evaluasi berdasarkan metrics\n",
    "mae_train_svr = mean_absolute_error(y_train, y_train_pred_svr)\n",
    "mae_test_svr = mean_absolute_error(y_test, y_test_pred_svr)\n",
    "\n",
    "print('SVR')\n",
    "print('MAE train = ', mae_train_svr)\n",
    "print('MAE test = ', mae_test_svr)"
   ]
  },
  {
   "attachments": {},
   "cell_type": "markdown",
   "metadata": {},
   "source": [
    "Dari informasi diatas dapat disimpulkan bahwa :\n",
    "\n",
    "- Model termasuk dalam kategori ***goodfit*** karena nilai MAE train dan MAE test tidak jauh berbeda\n",
    "- Setelah dilakukan *validasi* dengan *cross-validation*, nilai MAE tidak berbeda jauh dengan 1x *training*. **Artinya nilai MAE pada *train-set* valid**\n",
    "- Model ini memiliki error sejumlah +- 0,14. Contohnya jika hasil prediksi nutrisi adalah 4 maka ada kemungkinan nutrisi aktualnya 4,14 atau bisa juga 3,86"
   ]
  },
  {
   "cell_type": "code",
   "execution_count": 71,
   "metadata": {},
   "outputs": [
    {
     "data": {
      "text/plain": [
       "Pipeline(steps=[('preprocessor',\n",
       "                 ColumnTransformer(transformers=[('num', RobustScaler(),\n",
       "                                                  ['v1', 'v2', 'v3', 'v4', 'v5',\n",
       "                                                   'v6', 'v7', 'v8'])])),\n",
       "                ('classifier', BayesianRidge())])"
      ]
     },
     "execution_count": 71,
     "metadata": {},
     "output_type": "execute_result"
    }
   ],
   "source": [
    "# Fit X_train & y_train ke model\n",
    "model_bayes.fit(X_train_final, y_train)"
   ]
  },
  {
   "cell_type": "code",
   "execution_count": 72,
   "metadata": {},
   "outputs": [],
   "source": [
    "# Predict y_train & y_test\n",
    "y_train_pred_bayes = model_bayes.predict(X_train_final)\n",
    "y_test_pred_bayes = model_bayes.predict(X_test_final)"
   ]
  },
  {
   "cell_type": "code",
   "execution_count": 73,
   "metadata": {},
   "outputs": [
    {
     "name": "stdout",
     "output_type": "stream",
     "text": [
      "Test-Set\n",
      "Nilai min test-set  4.34\n",
      "Nilai max test-set  5.26\n",
      "Nilai rata-rata test-set  4.77\n",
      "------------------------------\n",
      "Pred-Set\n",
      "Nilai min pred  4.18\n",
      "Nilai max pred  5.16\n",
      "Nilai rata-rata pred  4.68\n"
     ]
    }
   ],
   "source": [
    "# Print nilai min, max dari test-set\n",
    "print('Test-Set')\n",
    "print('Nilai min test-set ', round(min(y_test),2))\n",
    "print('Nilai max test-set ', round(max(y_test),2))\n",
    "print('Nilai rata-rata test-set ', round(y_test.mean(),2))\n",
    "print('-'*30)\n",
    "print('Pred-Set')\n",
    "print('Nilai min pred ', round(min(y_test_pred_bayes),2))\n",
    "print('Nilai max pred ', round(max(y_test_pred_bayes),2))\n",
    "print('Nilai rata-rata pred ', round(y_test_pred_bayes.mean(),2))"
   ]
  },
  {
   "cell_type": "code",
   "execution_count": 74,
   "metadata": {},
   "outputs": [
    {
     "data": {
      "text/html": [
       "<div>\n",
       "<style scoped>\n",
       "    .dataframe tbody tr th:only-of-type {\n",
       "        vertical-align: middle;\n",
       "    }\n",
       "\n",
       "    .dataframe tbody tr th {\n",
       "        vertical-align: top;\n",
       "    }\n",
       "\n",
       "    .dataframe thead th {\n",
       "        text-align: right;\n",
       "    }\n",
       "</style>\n",
       "<table border=\"1\" class=\"dataframe\">\n",
       "  <thead>\n",
       "    <tr style=\"text-align: right;\">\n",
       "      <th></th>\n",
       "      <th>indicator</th>\n",
       "      <th>counts</th>\n",
       "    </tr>\n",
       "  </thead>\n",
       "  <tbody>\n",
       "    <tr>\n",
       "      <th>1</th>\n",
       "      <td>lower</td>\n",
       "      <td>25</td>\n",
       "    </tr>\n",
       "    <tr>\n",
       "      <th>0</th>\n",
       "      <td>higher</td>\n",
       "      <td>15</td>\n",
       "    </tr>\n",
       "  </tbody>\n",
       "</table>\n",
       "</div>"
      ],
      "text/plain": [
       "  indicator  counts\n",
       "1     lower      25\n",
       "0    higher      15"
      ]
     },
     "execution_count": 74,
     "metadata": {},
     "output_type": "execute_result"
    }
   ],
   "source": [
    "# Membuat dataframe utk melihat jumlah prediksi yang lebih dan jumlah prediksi yang kurang\n",
    "bayes_pred = pd.DataFrame({'actual': y_test,\n",
    "                'prediction' : y_test_pred_bayes})\n",
    "bayes_pred['indicator'] = np.where(bayes_pred['prediction'] > bayes_pred['actual'], 'higher', 'lower')\n",
    "bayes_pred_group = bayes_pred.groupby('indicator').size().reset_index(name=\"counts\").sort_values(by= 'counts',ascending=False)\n",
    "bayes_pred_group"
   ]
  },
  {
   "attachments": {},
   "cell_type": "markdown",
   "metadata": {},
   "source": [
    "Dari informasi diatas dapat disimpulkan bahwa :\n",
    "- Rata-rata prediksi lebih rendah dari pada aktual\n",
    "- Model memprediksi nilai nutrisi dengan *range* 4,18 - 5,16 sedangkan aktual yang di gunakan untuk *test* ada pada *range* 4,34 - 5,26\n",
    "- Model cenderung memprediksi lebih rendah dari nilai aktual"
   ]
  },
  {
   "cell_type": "code",
   "execution_count": 75,
   "metadata": {},
   "outputs": [
    {
     "name": "stdout",
     "output_type": "stream",
     "text": [
      "MAE - Mean - Cross Validation :  0.15007595595495177\n",
      "MAE - Std - Cross Validation :  0.03328714301589997\n",
      "MAE - Range of Train-Set :  0.1167888129390518 - 0.18336309897085173\n"
     ]
    }
   ],
   "source": [
    "# Model Evaluation - Train Set\n",
    "scores_bayes=cross_val_score(model_bayes,X_train_final,y_train,cv=5,scoring=\"neg_mean_absolute_error\")*-1\n",
    "\n",
    "print('MAE - Mean - Cross Validation : ', scores_bayes.mean())\n",
    "print('MAE - Std - Cross Validation : ', scores_bayes.std())\n",
    "print('MAE - Range of Train-Set : ', (scores_bayes.mean()-scores_bayes.std()) , '-', (scores_bayes.mean()+scores_bayes.std()))"
   ]
  },
  {
   "cell_type": "code",
   "execution_count": 76,
   "metadata": {},
   "outputs": [
    {
     "name": "stdout",
     "output_type": "stream",
     "text": [
      "Bayes\n",
      "MAE train =  0.11955113219658128\n",
      "MAE test =  0.1911895012474409\n"
     ]
    }
   ],
   "source": [
    "# Evaluasi berdasarkan metrics\n",
    "mae_train_bayes = mean_absolute_error(y_train, y_train_pred_bayes)\n",
    "mae_test_bayes = mean_absolute_error(y_test, y_test_pred_bayes)\n",
    "\n",
    "print('Bayes')\n",
    "print('MAE train = ', mae_train_bayes)\n",
    "print('MAE test = ', mae_test_bayes)"
   ]
  },
  {
   "attachments": {},
   "cell_type": "markdown",
   "metadata": {},
   "source": [
    "Dari informasi diatas dapat disimpulkan bahwa :\n",
    "\n",
    "- Model termasuk dalam kategori ***overfit*** karena nilai MAE train lebih rendah dari pada MAE test\n",
    "- Setelah dilakukan *validasi* dengan *cross-validation*, nilai MAE tidak berbeda jauh dengan 1x *training*. **Artinya nilai MAE pada *train-set* valid**\n",
    "- Model ini memiliki error sejumlah +- 0,19. Contohnya jika hasil prediksi nutrisi adalah 4 maka ada kemungkinan nutrisi aktualnya 4,19 atau bisa juga 3,81"
   ]
  },
  {
   "cell_type": "code",
   "execution_count": 77,
   "metadata": {},
   "outputs": [
    {
     "data": {
      "text/plain": [
       "Pipeline(steps=[('preprocessor',\n",
       "                 ColumnTransformer(transformers=[('num', RobustScaler(),\n",
       "                                                  ['v1', 'v2', 'v3', 'v4', 'v5',\n",
       "                                                   'v6', 'v7', 'v8'])])),\n",
       "                ('classifier', DecisionTreeRegressor(random_state=2))])"
      ]
     },
     "execution_count": 77,
     "metadata": {},
     "output_type": "execute_result"
    }
   ],
   "source": [
    "# Fit X_train & y_train ke model\n",
    "model_tree.fit(X_train_final, y_train)"
   ]
  },
  {
   "cell_type": "code",
   "execution_count": 78,
   "metadata": {},
   "outputs": [],
   "source": [
    "# Predict y_train & y_test\n",
    "y_train_pred_tree = model_tree.predict(X_train_final)\n",
    "y_test_pred_tree = model_tree.predict(X_test_final)"
   ]
  },
  {
   "cell_type": "code",
   "execution_count": 79,
   "metadata": {},
   "outputs": [
    {
     "name": "stdout",
     "output_type": "stream",
     "text": [
      "Test-Set\n",
      "Nilai min test-set  4.34\n",
      "Nilai max test-set  5.26\n",
      "Nilai rata-rata test-set  4.77\n",
      "------------------------------\n",
      "Pred-Set\n",
      "Nilai min pred  4.35\n",
      "Nilai max pred  5.09\n",
      "Nilai rata-rata pred  4.73\n"
     ]
    }
   ],
   "source": [
    "# Print nilai min, max dari test-set\n",
    "print('Test-Set')\n",
    "print('Nilai min test-set ', round(min(y_test),2))\n",
    "print('Nilai max test-set ', round(max(y_test),2))\n",
    "print('Nilai rata-rata test-set ', round(y_test.mean(),2))\n",
    "print('-'*30)\n",
    "print('Pred-Set')\n",
    "print('Nilai min pred ', round(min(y_test_pred_tree),2))\n",
    "print('Nilai max pred ', round(max(y_test_pred_tree),2))\n",
    "print('Nilai rata-rata pred ', round(y_test_pred_tree.mean(),2))"
   ]
  },
  {
   "cell_type": "code",
   "execution_count": 80,
   "metadata": {},
   "outputs": [
    {
     "data": {
      "text/html": [
       "<div>\n",
       "<style scoped>\n",
       "    .dataframe tbody tr th:only-of-type {\n",
       "        vertical-align: middle;\n",
       "    }\n",
       "\n",
       "    .dataframe tbody tr th {\n",
       "        vertical-align: top;\n",
       "    }\n",
       "\n",
       "    .dataframe thead th {\n",
       "        text-align: right;\n",
       "    }\n",
       "</style>\n",
       "<table border=\"1\" class=\"dataframe\">\n",
       "  <thead>\n",
       "    <tr style=\"text-align: right;\">\n",
       "      <th></th>\n",
       "      <th>indicator</th>\n",
       "      <th>counts</th>\n",
       "    </tr>\n",
       "  </thead>\n",
       "  <tbody>\n",
       "    <tr>\n",
       "      <th>0</th>\n",
       "      <td>higher</td>\n",
       "      <td>23</td>\n",
       "    </tr>\n",
       "    <tr>\n",
       "      <th>1</th>\n",
       "      <td>lower</td>\n",
       "      <td>17</td>\n",
       "    </tr>\n",
       "  </tbody>\n",
       "</table>\n",
       "</div>"
      ],
      "text/plain": [
       "  indicator  counts\n",
       "0    higher      23\n",
       "1     lower      17"
      ]
     },
     "execution_count": 80,
     "metadata": {},
     "output_type": "execute_result"
    }
   ],
   "source": [
    "# Membuat dataframe utk melihat jumlah prediksi yang lebih dan jumlah prediksi yang kurang\n",
    "tree_pred = pd.DataFrame({'actual': y_test,\n",
    "                'prediction' : y_test_pred_tree})\n",
    "tree_pred['indicator'] = np.where(tree_pred['prediction'] > tree_pred['actual'], 'higher', 'lower')\n",
    "tree_pred_group = tree_pred.groupby('indicator').size().reset_index(name=\"counts\").sort_values(by= 'counts',ascending=False)\n",
    "tree_pred_group"
   ]
  },
  {
   "attachments": {},
   "cell_type": "markdown",
   "metadata": {},
   "source": [
    "Dari informasi diatas dapat disimpulkan bahwa :\n",
    "- Rata-rata prediksi lebih rendah dari pada aktual\n",
    "- Model memprediksi nilai nutrisi dengan *range* 4,35 - 5,09 sedangkan aktual yang di gunakan untuk *test* ada pada *range* 4,34 - 5,26\n",
    "- Model cenderung memprediksi lebih tinggi dari nilai aktual"
   ]
  },
  {
   "cell_type": "code",
   "execution_count": 81,
   "metadata": {},
   "outputs": [
    {
     "name": "stdout",
     "output_type": "stream",
     "text": [
      "MAE - Mean - Cross Validation :  0.09578431936384771\n",
      "MAE - Std - Cross Validation :  0.0828141485554148\n",
      "MAE - Range of Train-Set :  0.012970170808432907 - 0.1785984679192625\n"
     ]
    }
   ],
   "source": [
    "# Model Evaluation - Train Set\n",
    "scores_tree=cross_val_score(model_tree,X_train_final,y_train,cv=5,scoring=\"neg_mean_absolute_error\")*-1\n",
    "\n",
    "print('MAE - Mean - Cross Validation : ', scores_tree.mean())\n",
    "print('MAE - Std - Cross Validation : ', scores_tree.std())\n",
    "print('MAE - Range of Train-Set : ', (scores_tree.mean()-scores_tree.std()) , '-', (scores_tree.mean()+scores_tree.std()))"
   ]
  },
  {
   "cell_type": "code",
   "execution_count": 82,
   "metadata": {},
   "outputs": [
    {
     "name": "stdout",
     "output_type": "stream",
     "text": [
      "Decision Tree\n",
      "MAE train =  2.651382437438556e-10\n",
      "MAE test =  0.1557499999999999\n"
     ]
    }
   ],
   "source": [
    "# Evaluasi berdasarkan metrics\n",
    "mae_train_tree = mean_absolute_error(y_train, y_train_pred_tree)\n",
    "mae_test_tree = mean_absolute_error(y_test, y_test_pred_tree)\n",
    "\n",
    "print('Decision Tree')\n",
    "print('MAE train = ', mae_train_tree)\n",
    "print('MAE test = ', mae_test_tree)"
   ]
  },
  {
   "attachments": {},
   "cell_type": "markdown",
   "metadata": {},
   "source": [
    "Dari informasi diatas dapat disimpulkan bahwa :\n",
    "\n",
    "- Model termasuk dalam kategori ***overfit*** karena nilai MAE train lebih kecil dari pada MAE test\n",
    "- Setelah dilakukan *validasi* dengan *cross-validation*, nilai MAE berbeda dengan 1x *training*. **Artinya nilai MAE pada *train-set* tidak valid**\n",
    "- Model ini memiliki error sejumlah +- 0,15. Contohnya jika hasil prediksi nutrisi adalah 4 maka ada kemungkinan nutrisi aktualnya 4,15 atau bisa juga 3,85"
   ]
  },
  {
   "cell_type": "code",
   "execution_count": 83,
   "metadata": {},
   "outputs": [
    {
     "data": {
      "text/plain": [
       "Pipeline(steps=[('preprocessor',\n",
       "                 ColumnTransformer(transformers=[('num', RobustScaler(),\n",
       "                                                  ['v1', 'v2', 'v3', 'v4', 'v5',\n",
       "                                                   'v6', 'v7', 'v8'])])),\n",
       "                ('classifier', RandomForestRegressor(random_state=3))])"
      ]
     },
     "execution_count": 83,
     "metadata": {},
     "output_type": "execute_result"
    }
   ],
   "source": [
    "# Fit X_train & y_train ke model\n",
    "model_forest.fit(X_train_final, y_train)"
   ]
  },
  {
   "cell_type": "code",
   "execution_count": 84,
   "metadata": {},
   "outputs": [],
   "source": [
    "# Predict y_train & y_test\n",
    "y_train_pred_forest = model_forest.predict(X_train_final)\n",
    "y_test_pred_forest = model_forest.predict(X_test_final)"
   ]
  },
  {
   "cell_type": "code",
   "execution_count": 85,
   "metadata": {},
   "outputs": [
    {
     "name": "stdout",
     "output_type": "stream",
     "text": [
      "Test-Set\n",
      "Nilai min test-set  4.34\n",
      "Nilai max test-set  5.26\n",
      "Nilai rata-rata test-set  4.77\n",
      "------------------------------\n",
      "Pred-Set\n",
      "Nilai min pred  4.47\n",
      "Nilai max pred  4.97\n",
      "Nilai rata-rata pred  4.74\n"
     ]
    }
   ],
   "source": [
    "# Print nilai min, max dari test-set\n",
    "print('Test-Set')\n",
    "print('Nilai min test-set ', round(min(y_test),2))\n",
    "print('Nilai max test-set ', round(max(y_test),2))\n",
    "print('Nilai rata-rata test-set ', round(y_test.mean(),2))\n",
    "print('-'*30)\n",
    "print('Pred-Set')\n",
    "print('Nilai min pred ', round(min(y_test_pred_forest),2))\n",
    "print('Nilai max pred ', round(max(y_test_pred_forest),2))\n",
    "print('Nilai rata-rata pred ', round(y_test_pred_forest.mean(),2))"
   ]
  },
  {
   "cell_type": "code",
   "execution_count": 86,
   "metadata": {},
   "outputs": [
    {
     "data": {
      "text/html": [
       "<div>\n",
       "<style scoped>\n",
       "    .dataframe tbody tr th:only-of-type {\n",
       "        vertical-align: middle;\n",
       "    }\n",
       "\n",
       "    .dataframe tbody tr th {\n",
       "        vertical-align: top;\n",
       "    }\n",
       "\n",
       "    .dataframe thead th {\n",
       "        text-align: right;\n",
       "    }\n",
       "</style>\n",
       "<table border=\"1\" class=\"dataframe\">\n",
       "  <thead>\n",
       "    <tr style=\"text-align: right;\">\n",
       "      <th></th>\n",
       "      <th>indicator</th>\n",
       "      <th>counts</th>\n",
       "    </tr>\n",
       "  </thead>\n",
       "  <tbody>\n",
       "    <tr>\n",
       "      <th>1</th>\n",
       "      <td>lower</td>\n",
       "      <td>22</td>\n",
       "    </tr>\n",
       "    <tr>\n",
       "      <th>0</th>\n",
       "      <td>higher</td>\n",
       "      <td>18</td>\n",
       "    </tr>\n",
       "  </tbody>\n",
       "</table>\n",
       "</div>"
      ],
      "text/plain": [
       "  indicator  counts\n",
       "1     lower      22\n",
       "0    higher      18"
      ]
     },
     "execution_count": 86,
     "metadata": {},
     "output_type": "execute_result"
    }
   ],
   "source": [
    "# Membuat dataframe utk melihat jumlah prediksi yang lebih dan jumlah prediksi yang kurang\n",
    "forest_pred = pd.DataFrame({'actual': y_test,\n",
    "                'prediction' : y_test_pred_forest})\n",
    "forest_pred['indicator'] = np.where(forest_pred['prediction'] > forest_pred['actual'], 'higher', 'lower')\n",
    "forest_pred_group = forest_pred.groupby('indicator').size().reset_index(name=\"counts\").sort_values(by= 'counts',ascending=False)\n",
    "forest_pred_group"
   ]
  },
  {
   "attachments": {},
   "cell_type": "markdown",
   "metadata": {},
   "source": [
    "Dari informasi diatas dapat disimpulkan bahwa :\n",
    "- Rata-rata prediksi lebih rendah dari pada aktual\n",
    "- Model memprediksi nilai nutrisi dengan *range* 4,47 - 4,97 sedangkan aktual yang di gunakan untuk *test* ada pada *range* 4,34 - 5,26\n",
    "- Model cenderung memprediksi lebih rendah dari nilai aktual"
   ]
  },
  {
   "cell_type": "code",
   "execution_count": 87,
   "metadata": {},
   "outputs": [
    {
     "name": "stdout",
     "output_type": "stream",
     "text": [
      "MAE - Mean - Cross Validation :  0.09032972419358078\n",
      "MAE - Std - Cross Validation :  0.057695612610616356\n",
      "MAE - Range of Train-Set :  0.03263411158296442 - 0.14802533680419713\n"
     ]
    }
   ],
   "source": [
    "# Model Evaluation - Train Set\n",
    "scores_forest=cross_val_score(model_forest,X_train_final,y_train,cv=5,scoring=\"neg_mean_absolute_error\")*-1\n",
    "\n",
    "print('MAE - Mean - Cross Validation : ', scores_forest.mean())\n",
    "print('MAE - Std - Cross Validation : ', scores_forest.std())\n",
    "print('MAE - Range of Train-Set : ', (scores_forest.mean()-scores_forest.std()) , '-', (scores_forest.mean()+scores_forest.std()))"
   ]
  },
  {
   "cell_type": "code",
   "execution_count": 88,
   "metadata": {},
   "outputs": [
    {
     "name": "stdout",
     "output_type": "stream",
     "text": [
      "Random Forest\n",
      "MAE train =  0.029820580063755115\n",
      "MAE test =  0.12505252254969892\n"
     ]
    }
   ],
   "source": [
    "# Evaluasi berdasarkan metrics\n",
    "mae_train_forest = mean_absolute_error(y_train, y_train_pred_forest)\n",
    "mae_test_forest = mean_absolute_error(y_test, y_test_pred_forest)\n",
    "\n",
    "print('Random Forest')\n",
    "print('MAE train = ', mae_train_forest)\n",
    "print('MAE test = ', mae_test_forest)"
   ]
  },
  {
   "attachments": {},
   "cell_type": "markdown",
   "metadata": {},
   "source": [
    "Dari informasi diatas dapat disimpulkan bahwa :\n",
    "\n",
    "- Setelah dilakukan *validasi* dengan *cross-validation*, nilai MAE tidak berbeda jauh dengan 1x *training*. **Artinya nilai MAE pada *train-set* valid**\n",
    "- Model ini memiliki error sejumlah +- 0,12. Contohnya jika hasil prediksi nutrisi adalah 4 maka ada kemungkinan nutrisi aktualnya 4,12 atau bisa juga 3,88"
   ]
  },
  {
   "cell_type": "code",
   "execution_count": 89,
   "metadata": {},
   "outputs": [
    {
     "data": {
      "text/plain": [
       "Pipeline(steps=[('preprocessor',\n",
       "                 ColumnTransformer(transformers=[('num', RobustScaler(),\n",
       "                                                  ['v1', 'v2', 'v3', 'v4', 'v5',\n",
       "                                                   'v6', 'v7', 'v8'])])),\n",
       "                ('classifier', GradientBoostingRegressor(random_state=4))])"
      ]
     },
     "execution_count": 89,
     "metadata": {},
     "output_type": "execute_result"
    }
   ],
   "source": [
    "# Fit X_train & y_train ke model\n",
    "model_xgboost.fit(X_train_final, y_train)"
   ]
  },
  {
   "cell_type": "code",
   "execution_count": 90,
   "metadata": {},
   "outputs": [],
   "source": [
    "# Predict y_train & y_test\n",
    "y_train_pred_xgboost = model_xgboost.predict(X_train_final)\n",
    "y_test_pred_xgboost = model_xgboost.predict(X_test_final)"
   ]
  },
  {
   "cell_type": "code",
   "execution_count": 91,
   "metadata": {},
   "outputs": [
    {
     "name": "stdout",
     "output_type": "stream",
     "text": [
      "Test-Set\n",
      "Nilai min test-set  4.34\n",
      "Nilai max test-set  5.26\n",
      "Nilai rata-rata test-set  4.77\n",
      "------------------------------\n",
      "Pred-Set\n",
      "Nilai min pred  4.46\n",
      "Nilai max pred  4.98\n",
      "Nilai rata-rata pred  4.74\n"
     ]
    }
   ],
   "source": [
    "# Print nilai min, max dari test-set\n",
    "print('Test-Set')\n",
    "print('Nilai min test-set ', round(min(y_test),2))\n",
    "print('Nilai max test-set ', round(max(y_test),2))\n",
    "print('Nilai rata-rata test-set ', round(y_test.mean(),2))\n",
    "print('-'*30)\n",
    "print('Pred-Set')\n",
    "print('Nilai min pred ', round(min(y_test_pred_xgboost),2))\n",
    "print('Nilai max pred ', round(max(y_test_pred_xgboost),2))\n",
    "print('Nilai rata-rata pred ', round(y_test_pred_xgboost.mean(),2))"
   ]
  },
  {
   "cell_type": "code",
   "execution_count": 92,
   "metadata": {},
   "outputs": [
    {
     "data": {
      "text/html": [
       "<div>\n",
       "<style scoped>\n",
       "    .dataframe tbody tr th:only-of-type {\n",
       "        vertical-align: middle;\n",
       "    }\n",
       "\n",
       "    .dataframe tbody tr th {\n",
       "        vertical-align: top;\n",
       "    }\n",
       "\n",
       "    .dataframe thead th {\n",
       "        text-align: right;\n",
       "    }\n",
       "</style>\n",
       "<table border=\"1\" class=\"dataframe\">\n",
       "  <thead>\n",
       "    <tr style=\"text-align: right;\">\n",
       "      <th></th>\n",
       "      <th>indicator</th>\n",
       "      <th>counts</th>\n",
       "    </tr>\n",
       "  </thead>\n",
       "  <tbody>\n",
       "    <tr>\n",
       "      <th>1</th>\n",
       "      <td>lower</td>\n",
       "      <td>23</td>\n",
       "    </tr>\n",
       "    <tr>\n",
       "      <th>0</th>\n",
       "      <td>higher</td>\n",
       "      <td>17</td>\n",
       "    </tr>\n",
       "  </tbody>\n",
       "</table>\n",
       "</div>"
      ],
      "text/plain": [
       "  indicator  counts\n",
       "1     lower      23\n",
       "0    higher      17"
      ]
     },
     "execution_count": 92,
     "metadata": {},
     "output_type": "execute_result"
    }
   ],
   "source": [
    "# Membuat dataframe utk melihat jumlah prediksi yang lebih dan jumlah prediksi yang kurang\n",
    "xgboost_pred = pd.DataFrame({'actual': y_test,\n",
    "                'prediction' : y_test_pred_xgboost})\n",
    "xgboost_pred['indicator'] = np.where(xgboost_pred['prediction'] > xgboost_pred['actual'], 'higher', 'lower')\n",
    "xgboost_pred_group = xgboost_pred.groupby('indicator').size().reset_index(name=\"counts\").sort_values(by= 'counts',ascending=False)\n",
    "xgboost_pred_group"
   ]
  },
  {
   "attachments": {},
   "cell_type": "markdown",
   "metadata": {},
   "source": [
    "Dari informasi diatas dapat disimpulkan bahwa :\n",
    "- Rata-rata prediksi lebih rendah dari pada aktual\n",
    "- Model memprediksi nilai nutrisi dengan *range* 4,46 - 4,98 sedangkan aktual yang di gunakan untuk *test* ada pada *range* 4,34 - 5,26\n",
    "- Model cenderung memprediksi lebih rendah dari nilai aktual"
   ]
  },
  {
   "cell_type": "code",
   "execution_count": 93,
   "metadata": {},
   "outputs": [
    {
     "name": "stdout",
     "output_type": "stream",
     "text": [
      "MAE - Mean - Cross Validation :  0.09009926422911509\n",
      "MAE - Std - Cross Validation :  0.06147625449076485\n",
      "MAE - Range of Train-Set :  0.028623009738350233 - 0.15157551871987995\n"
     ]
    }
   ],
   "source": [
    "# Model Evaluation - Train Set\n",
    "scores_xgboost=cross_val_score(model_xgboost,X_train_final,y_train,cv=5,scoring=\"neg_mean_absolute_error\")*-1\n",
    "\n",
    "print('MAE - Mean - Cross Validation : ', scores_xgboost.mean())\n",
    "print('MAE - Std - Cross Validation : ', scores_xgboost.std())\n",
    "print('MAE - Range of Train-Set : ', (scores_xgboost.mean()-scores_xgboost.std()) , '-', (scores_xgboost.mean()+scores_xgboost.std()))"
   ]
  },
  {
   "cell_type": "code",
   "execution_count": 94,
   "metadata": {},
   "outputs": [
    {
     "name": "stdout",
     "output_type": "stream",
     "text": [
      "XGBoost\n",
      "MAE train =  0.020985328762069648\n",
      "MAE test =  0.1360565470451804\n"
     ]
    }
   ],
   "source": [
    "# Evaluasi berdasarkan metrics\n",
    "mae_train_xgboost = mean_absolute_error(y_train, y_train_pred_xgboost)\n",
    "mae_test_xgboost = mean_absolute_error(y_test, y_test_pred_xgboost)\n",
    "\n",
    "print('XGBoost')\n",
    "print('MAE train = ', mae_train_xgboost)\n",
    "print('MAE test = ', mae_test_xgboost)"
   ]
  },
  {
   "attachments": {},
   "cell_type": "markdown",
   "metadata": {},
   "source": [
    "Dari informasi diatas dapat disimpulkan bahwa :\n",
    "\n",
    "- Model termasuk dalam kategori ***overfit*** karena MAE train memiliki nilai yang lebih rendah dari pada MAE test\n",
    "- Setelah dilakukan *validasi* dengan *cross-validation*, nilai MAE tidak berbeda jauh dengan 1x *training*. **Artinya nilai MAE pada *train-set* valid**\n",
    "- Model ini memiliki error sejumlah +- 0,13. Contohnya jika hasil prediksi nutrisi adalah 4 maka ada kemungkinan nutrisi aktualnya 4,13 atau bisa juga 3,87"
   ]
  },
  {
   "cell_type": "code",
   "execution_count": 95,
   "metadata": {},
   "outputs": [
    {
     "data": {
      "text/plain": [
       "Pipeline(steps=[('preprocessor',\n",
       "                 ColumnTransformer(transformers=[('num', RobustScaler(),\n",
       "                                                  ['v1', 'v2', 'v3', 'v4', 'v5',\n",
       "                                                   'v6', 'v7', 'v8'])])),\n",
       "                ('classifier', AdaBoostRegressor(random_state=5))])"
      ]
     },
     "execution_count": 95,
     "metadata": {},
     "output_type": "execute_result"
    }
   ],
   "source": [
    "# Fit X_train & y_train ke model\n",
    "model_ada.fit(X_train_final, y_train)"
   ]
  },
  {
   "cell_type": "code",
   "execution_count": 96,
   "metadata": {},
   "outputs": [],
   "source": [
    "# Predict y_train & y_test\n",
    "y_train_pred_ada = model_ada.predict(X_train_final)\n",
    "y_test_pred_ada = model_ada.predict(X_test_final)"
   ]
  },
  {
   "cell_type": "code",
   "execution_count": 97,
   "metadata": {},
   "outputs": [
    {
     "name": "stdout",
     "output_type": "stream",
     "text": [
      "Test-Set\n",
      "Nilai min test-set  4.34\n",
      "Nilai max test-set  5.26\n",
      "Nilai rata-rata test-set  4.77\n",
      "------------------------------\n",
      "Pred-Set\n",
      "Nilai min pred  4.48\n",
      "Nilai max pred  4.92\n",
      "Nilai rata-rata pred  4.74\n"
     ]
    }
   ],
   "source": [
    "# Print nilai min, max dari test-set\n",
    "print('Test-Set')\n",
    "print('Nilai min test-set ', round(min(y_test),2))\n",
    "print('Nilai max test-set ', round(max(y_test),2))\n",
    "print('Nilai rata-rata test-set ', round(y_test.mean(),2))\n",
    "print('-'*30)\n",
    "print('Pred-Set')\n",
    "print('Nilai min pred ', round(min(y_test_pred_ada),2))\n",
    "print('Nilai max pred ', round(max(y_test_pred_ada),2))\n",
    "print('Nilai rata-rata pred ', round(y_test_pred_ada.mean(),2))"
   ]
  },
  {
   "cell_type": "code",
   "execution_count": 98,
   "metadata": {},
   "outputs": [
    {
     "data": {
      "text/html": [
       "<div>\n",
       "<style scoped>\n",
       "    .dataframe tbody tr th:only-of-type {\n",
       "        vertical-align: middle;\n",
       "    }\n",
       "\n",
       "    .dataframe tbody tr th {\n",
       "        vertical-align: top;\n",
       "    }\n",
       "\n",
       "    .dataframe thead th {\n",
       "        text-align: right;\n",
       "    }\n",
       "</style>\n",
       "<table border=\"1\" class=\"dataframe\">\n",
       "  <thead>\n",
       "    <tr style=\"text-align: right;\">\n",
       "      <th></th>\n",
       "      <th>indicator</th>\n",
       "      <th>counts</th>\n",
       "    </tr>\n",
       "  </thead>\n",
       "  <tbody>\n",
       "    <tr>\n",
       "      <th>1</th>\n",
       "      <td>lower</td>\n",
       "      <td>22</td>\n",
       "    </tr>\n",
       "    <tr>\n",
       "      <th>0</th>\n",
       "      <td>higher</td>\n",
       "      <td>18</td>\n",
       "    </tr>\n",
       "  </tbody>\n",
       "</table>\n",
       "</div>"
      ],
      "text/plain": [
       "  indicator  counts\n",
       "1     lower      22\n",
       "0    higher      18"
      ]
     },
     "execution_count": 98,
     "metadata": {},
     "output_type": "execute_result"
    }
   ],
   "source": [
    "# Membuat dataframe utk melihat jumlah prediksi yang lebih dan jumlah prediksi yang kurang\n",
    "ada_pred = pd.DataFrame({'actual': y_test,\n",
    "                'prediction' : y_test_pred_ada})\n",
    "ada_pred['indicator'] = np.where(ada_pred['prediction'] > ada_pred['actual'], 'higher', 'lower')\n",
    "ada_pred_group = ada_pred.groupby('indicator').size().reset_index(name=\"counts\").sort_values(by= 'counts',ascending=False)\n",
    "ada_pred_group"
   ]
  },
  {
   "attachments": {},
   "cell_type": "markdown",
   "metadata": {},
   "source": [
    "Dari informasi diatas dapat disimpulkan bahwa :\n",
    "- Rata-rata prediksi lebih rendah dari pada aktual\n",
    "- Model memprediksi nilai nutrisi dengan *range* 4,48 - 4,92 sedangkan aktual yang di gunakan untuk *test* ada pada *range* 4,34 - 5,26\n",
    "- Model cenderung memprediksi lebih rendah dari nilai aktual"
   ]
  },
  {
   "cell_type": "code",
   "execution_count": 99,
   "metadata": {},
   "outputs": [
    {
     "name": "stdout",
     "output_type": "stream",
     "text": [
      "MAE - Mean - Cross Validation :  0.13279528285854922\n",
      "MAE - Std - Cross Validation :  0.025783060297249468\n",
      "MAE - Range of Train-Set :  0.10701222256129975 - 0.1585783431557987\n"
     ]
    }
   ],
   "source": [
    "# Model Evaluation - Train Set\n",
    "scores_ada=cross_val_score(model_ada,X_train_final,y_train,cv=5,scoring=\"neg_mean_absolute_error\")*-1\n",
    "\n",
    "print('MAE - Mean - Cross Validation : ', scores_ada.mean())\n",
    "print('MAE - Std - Cross Validation : ', scores_ada.std())\n",
    "print('MAE - Range of Train-Set : ', (scores_ada.mean()-scores_ada.std()) , '-', (scores_ada.mean()+scores_ada.std()))"
   ]
  },
  {
   "cell_type": "code",
   "execution_count": 100,
   "metadata": {},
   "outputs": [
    {
     "name": "stdout",
     "output_type": "stream",
     "text": [
      "ADABoost\n",
      "MAE train =  0.10291189446056731\n",
      "MAE test =  0.1417055092756622\n"
     ]
    }
   ],
   "source": [
    "# Evaluasi berdasarkan metrics\n",
    "mae_train_ada = mean_absolute_error(y_train, y_train_pred_ada)\n",
    "mae_test_ada = mean_absolute_error(y_test, y_test_pred_ada)\n",
    "\n",
    "print('ADABoost')\n",
    "print('MAE train = ', mae_train_ada)\n",
    "print('MAE test = ', mae_test_ada)"
   ]
  },
  {
   "attachments": {},
   "cell_type": "markdown",
   "metadata": {},
   "source": [
    "Dari informasi diatas dapat disimpulkan bahwa :\n",
    "\n",
    "- Model ini masuk ke dalam kategori ***goodfit*** karena MAE train dan MAE test tidak berbeda secara signifikan\n",
    "- Setelah dilakukan *validasi* dengan *cross-validation*, nilai MAE tidak berbeda jauh dengan 1x *training*. **Artinya nilai MAE pada *train-set* valid**\n",
    "- Model ini memiliki error sejumlah +- 0,14. Contohnya jika hasil prediksi nutrisi adalah 4 maka ada kemungkinan nutrisi aktualnya 4,14 atau bisa juga 3,86"
   ]
  },
  {
   "cell_type": "code",
   "execution_count": 101,
   "metadata": {},
   "outputs": [],
   "source": [
    "# Pembuatan list kolom performansi semua model\n",
    "eval_mae_train = [mae_train_linreg, mae_train_knn, mae_train_svr, mae_train_bayes, mae_train_tree, mae_train_forest, mae_train_xgboost, mae_train_ada]\n",
    "eval_mae_test = [mae_test_linreg, mae_test_knn, mae_test_svr, mae_test_bayes, mae_test_tree, mae_test_forest, mae_test_xgboost, mae_test_ada]\n",
    "eval_mae_cross =[scores_linreg.mean(), scores_knn.mean(), scores_svr.mean(), scores_bayes.mean(), scores_tree.mean(), scores_forest.mean(), scores_xgboost.mean(),scores_ada.mean()]"
   ]
  },
  {
   "cell_type": "code",
   "execution_count": 102,
   "metadata": {},
   "outputs": [],
   "source": [
    "# Membuat dataframe performansi\n",
    "df_model_eval = pd.DataFrame([eval_mae_train, eval_mae_test, eval_mae_cross], index=['MAE_train','MAE_test','MAE_validation'], columns=['Linear_Regression','KNN','SVR','Bayes' ,'Decision_Tree','Random_Forest','XGBoost','ADABoost']).T"
   ]
  },
  {
   "cell_type": "code",
   "execution_count": 103,
   "metadata": {},
   "outputs": [
    {
     "data": {
      "text/html": [
       "<div>\n",
       "<style scoped>\n",
       "    .dataframe tbody tr th:only-of-type {\n",
       "        vertical-align: middle;\n",
       "    }\n",
       "\n",
       "    .dataframe tbody tr th {\n",
       "        vertical-align: top;\n",
       "    }\n",
       "\n",
       "    .dataframe thead th {\n",
       "        text-align: right;\n",
       "    }\n",
       "</style>\n",
       "<table border=\"1\" class=\"dataframe\">\n",
       "  <thead>\n",
       "    <tr style=\"text-align: right;\">\n",
       "      <th></th>\n",
       "      <th>MAE_train</th>\n",
       "      <th>MAE_test</th>\n",
       "      <th>MAE_validation</th>\n",
       "    </tr>\n",
       "  </thead>\n",
       "  <tbody>\n",
       "    <tr>\n",
       "      <th>Random_Forest</th>\n",
       "      <td>0.03</td>\n",
       "      <td>0.13</td>\n",
       "      <td>0.09</td>\n",
       "    </tr>\n",
       "    <tr>\n",
       "      <th>KNN</th>\n",
       "      <td>0.07</td>\n",
       "      <td>0.14</td>\n",
       "      <td>0.13</td>\n",
       "    </tr>\n",
       "    <tr>\n",
       "      <th>SVR</th>\n",
       "      <td>0.11</td>\n",
       "      <td>0.14</td>\n",
       "      <td>0.13</td>\n",
       "    </tr>\n",
       "    <tr>\n",
       "      <th>XGBoost</th>\n",
       "      <td>0.02</td>\n",
       "      <td>0.14</td>\n",
       "      <td>0.09</td>\n",
       "    </tr>\n",
       "    <tr>\n",
       "      <th>ADABoost</th>\n",
       "      <td>0.10</td>\n",
       "      <td>0.14</td>\n",
       "      <td>0.13</td>\n",
       "    </tr>\n",
       "    <tr>\n",
       "      <th>Decision_Tree</th>\n",
       "      <td>0.00</td>\n",
       "      <td>0.16</td>\n",
       "      <td>0.10</td>\n",
       "    </tr>\n",
       "    <tr>\n",
       "      <th>Bayes</th>\n",
       "      <td>0.12</td>\n",
       "      <td>0.19</td>\n",
       "      <td>0.15</td>\n",
       "    </tr>\n",
       "    <tr>\n",
       "      <th>Linear_Regression</th>\n",
       "      <td>0.12</td>\n",
       "      <td>0.20</td>\n",
       "      <td>0.15</td>\n",
       "    </tr>\n",
       "  </tbody>\n",
       "</table>\n",
       "</div>"
      ],
      "text/plain": [
       "                   MAE_train  MAE_test  MAE_validation\n",
       "Random_Forest           0.03      0.13            0.09\n",
       "KNN                     0.07      0.14            0.13\n",
       "SVR                     0.11      0.14            0.13\n",
       "XGBoost                 0.02      0.14            0.09\n",
       "ADABoost                0.10      0.14            0.13\n",
       "Decision_Tree           0.00      0.16            0.10\n",
       "Bayes                   0.12      0.19            0.15\n",
       "Linear_Regression       0.12      0.20            0.15"
      ]
     },
     "execution_count": 103,
     "metadata": {},
     "output_type": "execute_result"
    }
   ],
   "source": [
    "# Menampilkan dataframe performansi\n",
    "df_model_eval = df_model_eval.round(decimals=2)\n",
    "df_model_eval.sort_values(by='MAE_test', ascending=True)"
   ]
  },
  {
   "cell_type": "code",
   "execution_count": 104,
   "metadata": {},
   "outputs": [],
   "source": [
    "# Definisikan parameter yang akan dicoba\n",
    "param_grid_forest = {\n",
    "    'classifier__n_estimators' : [1,2,3,5,10,20,30,40],\n",
    "    'classifier__criterion' : ['squared_error', 'absolute_error', 'friedman_mse', 'poisson'],\n",
    "    'classifier__max_depth' : [1,2,3,4,5],\n",
    "    'classifier__min_samples_leaf' : [1,2,3,4,5],\n",
    "    'classifier__min_samples_split' : [2,3,4],\n",
    "    'classifier__max_features': ['sqrt', 'log2', None,1,2,3,4,5,6,7,8]\n",
    "}"
   ]
  },
  {
   "cell_type": "code",
   "execution_count": 105,
   "metadata": {},
   "outputs": [],
   "source": [
    "# Assign ke dalam variabel grid search\n",
    "grid_search_forest = GridSearchCV(estimator=model_forest, param_grid=param_grid_forest, n_jobs=-1, cv=5, scoring='neg_mean_absolute_error',error_score=0)"
   ]
  },
  {
   "cell_type": "code",
   "execution_count": 106,
   "metadata": {},
   "outputs": [
    {
     "data": {
      "text/plain": [
       "GridSearchCV(cv=5, error_score=0,\n",
       "             estimator=Pipeline(steps=[('preprocessor',\n",
       "                                        ColumnTransformer(transformers=[('num',\n",
       "                                                                         RobustScaler(),\n",
       "                                                                         ['v1',\n",
       "                                                                          'v2',\n",
       "                                                                          'v3',\n",
       "                                                                          'v4',\n",
       "                                                                          'v5',\n",
       "                                                                          'v6',\n",
       "                                                                          'v7',\n",
       "                                                                          'v8'])])),\n",
       "                                       ('classifier',\n",
       "                                        RandomForestRegressor(random_state=3))]),\n",
       "             n_jobs=-1,\n",
       "             param_grid={'classifier__criterion': ['squared_error',\n",
       "                                                   'absolute_error',\n",
       "                                                   'friedman_mse', 'poisson'],\n",
       "                         'classifier__max_depth': [1, 2, 3, 4, 5],\n",
       "                         'classifier__max_features': ['sqrt', 'log2', None, 1,\n",
       "                                                      2, 3, 4, 5, 6, 7, 8],\n",
       "                         'classifier__min_samples_leaf': [1, 2, 3, 4, 5],\n",
       "                         'classifier__min_samples_split': [2, 3, 4],\n",
       "                         'classifier__n_estimators': [1, 2, 3, 5, 10, 20, 30,\n",
       "                                                      40]},\n",
       "             scoring='neg_mean_absolute_error')"
      ]
     },
     "execution_count": 106,
     "metadata": {},
     "output_type": "execute_result"
    }
   ],
   "source": [
    "# Fit grid search dengan x_train_final dan y_train\n",
    "grid_search_forest.fit(X_train_final,y_train)"
   ]
  },
  {
   "cell_type": "code",
   "execution_count": 107,
   "metadata": {},
   "outputs": [
    {
     "data": {
      "text/plain": [
       "{'classifier__criterion': 'absolute_error',\n",
       " 'classifier__max_depth': 4,\n",
       " 'classifier__max_features': 4,\n",
       " 'classifier__min_samples_leaf': 1,\n",
       " 'classifier__min_samples_split': 2,\n",
       " 'classifier__n_estimators': 30}"
      ]
     },
     "execution_count": 107,
     "metadata": {},
     "output_type": "execute_result"
    }
   ],
   "source": [
    "# Pengecekan parameter terbaik\n",
    "grid_search_forest.best_params_"
   ]
  },
  {
   "cell_type": "code",
   "execution_count": 108,
   "metadata": {},
   "outputs": [
    {
     "data": {
      "text/plain": [
       "Pipeline(steps=[('preprocessor',\n",
       "                 ColumnTransformer(transformers=[('num', RobustScaler(),\n",
       "                                                  ['v1', 'v2', 'v3', 'v4', 'v5',\n",
       "                                                   'v6', 'v7', 'v8'])])),\n",
       "                ('classifier',\n",
       "                 RandomForestRegressor(criterion='absolute_error', max_depth=4,\n",
       "                                       max_features=4, n_estimators=30,\n",
       "                                       random_state=3))])"
      ]
     },
     "execution_count": 108,
     "metadata": {},
     "output_type": "execute_result"
    }
   ],
   "source": [
    "# Define model dan fit\n",
    "model_forest_opt = grid_search_forest.best_estimator_\n",
    "model_forest_opt.fit(X_train_final,y_train)"
   ]
  },
  {
   "cell_type": "code",
   "execution_count": 109,
   "metadata": {},
   "outputs": [],
   "source": [
    "# Prediction using optimal model\n",
    "y_train_pred_forest_opt = model_forest_opt.predict(X_train_final)\n",
    "y_test_pred_forest_opt = model_forest_opt.predict(X_test)"
   ]
  },
  {
   "cell_type": "code",
   "execution_count": 110,
   "metadata": {},
   "outputs": [
    {
     "name": "stdout",
     "output_type": "stream",
     "text": [
      "Test-Set\n",
      "Nilai min test-set  4.34\n",
      "Nilai max test-set  5.26\n",
      "Nilai rata-rata test-set  4.77\n",
      "------------------------------\n",
      "Pred-Set\n",
      "Nilai min pred  4.47\n",
      "Nilai max pred  4.97\n",
      "Nilai rata-rata pred  4.74\n"
     ]
    }
   ],
   "source": [
    "# Print nilai min, max dari test-set\n",
    "print('Test-Set')\n",
    "print('Nilai min test-set ', round(min(y_test),2))\n",
    "print('Nilai max test-set ', round(max(y_test),2))\n",
    "print('Nilai rata-rata test-set ', round(y_test.mean(),2))\n",
    "print('-'*30)\n",
    "print('Pred-Set')\n",
    "print('Nilai min pred ', round(min(y_test_pred_forest_opt),2))\n",
    "print('Nilai max pred ', round(max(y_test_pred_forest_opt),2))\n",
    "print('Nilai rata-rata pred ', round(y_test_pred_forest_opt.mean(),2))"
   ]
  },
  {
   "cell_type": "code",
   "execution_count": 111,
   "metadata": {},
   "outputs": [
    {
     "data": {
      "text/html": [
       "<div>\n",
       "<style scoped>\n",
       "    .dataframe tbody tr th:only-of-type {\n",
       "        vertical-align: middle;\n",
       "    }\n",
       "\n",
       "    .dataframe tbody tr th {\n",
       "        vertical-align: top;\n",
       "    }\n",
       "\n",
       "    .dataframe thead th {\n",
       "        text-align: right;\n",
       "    }\n",
       "</style>\n",
       "<table border=\"1\" class=\"dataframe\">\n",
       "  <thead>\n",
       "    <tr style=\"text-align: right;\">\n",
       "      <th></th>\n",
       "      <th>indicator</th>\n",
       "      <th>counts</th>\n",
       "    </tr>\n",
       "  </thead>\n",
       "  <tbody>\n",
       "    <tr>\n",
       "      <th>0</th>\n",
       "      <td>higher</td>\n",
       "      <td>20</td>\n",
       "    </tr>\n",
       "    <tr>\n",
       "      <th>1</th>\n",
       "      <td>lower</td>\n",
       "      <td>20</td>\n",
       "    </tr>\n",
       "  </tbody>\n",
       "</table>\n",
       "</div>"
      ],
      "text/plain": [
       "  indicator  counts\n",
       "0    higher      20\n",
       "1     lower      20"
      ]
     },
     "execution_count": 111,
     "metadata": {},
     "output_type": "execute_result"
    }
   ],
   "source": [
    "# Membuat dataframe utk melihat jumlah prediksi yang lebih dan jumlah prediksi yang kurang\n",
    "forest_opt_pred = pd.DataFrame({'actual': y_test,\n",
    "                'prediction' : y_test_pred_forest_opt})\n",
    "forest_opt_pred['indicator'] = np.where(forest_opt_pred['prediction'] > forest_opt_pred['actual'], 'higher', 'lower')\n",
    "forest_opt_pred_group = forest_opt_pred.groupby('indicator').size().reset_index(name=\"counts\").sort_values(by= 'counts',ascending=False)\n",
    "forest_opt_pred_group"
   ]
  },
  {
   "attachments": {},
   "cell_type": "markdown",
   "metadata": {},
   "source": [
    "Dari informasi diatas dapat disimpulkan bahwa :\n",
    "- Rata-rata prediksi lebih rendah dari pada aktual\n",
    "- Model memprediksi nilai nutrisi dengan *range* 4,47 - 4,97 sedangkan aktual yang di gunakan untuk *test* ada pada *range* 4,34 - 5,26\n",
    "- Model tidak memiliki kecenderungan untuk memprediksi (cenderung lebih dari/kurang dari)"
   ]
  },
  {
   "cell_type": "code",
   "execution_count": 112,
   "metadata": {},
   "outputs": [
    {
     "name": "stdout",
     "output_type": "stream",
     "text": [
      "MAE - Mean - Cross Validation :  0.07384985212851969\n",
      "MAE - Std - Cross Validation :  0.06264742284638117\n",
      "MAE - Range of Train-Set :  0.01120242928213852 - 0.13649727497490086\n"
     ]
    }
   ],
   "source": [
    "# Model Evaluation - Train Set\n",
    "scores_forest_opt=cross_val_score(model_forest_opt,X_train_final,y_train,cv=5,scoring=\"neg_mean_absolute_error\")*-1\n",
    "\n",
    "print('MAE - Mean - Cross Validation : ', scores_forest_opt.mean())\n",
    "print('MAE - Std - Cross Validation : ', scores_forest_opt.std())\n",
    "print('MAE - Range of Train-Set : ', (scores_forest_opt.mean()-scores_forest_opt.std()) , '-', (scores_forest_opt.mean()+scores_forest_opt.std()))"
   ]
  },
  {
   "cell_type": "code",
   "execution_count": 113,
   "metadata": {},
   "outputs": [
    {
     "name": "stdout",
     "output_type": "stream",
     "text": [
      "Random Forest Opt\n",
      "MAE train =  0.055077153492015876\n",
      "MAE test =  0.12450048909534447\n"
     ]
    }
   ],
   "source": [
    "# Evaluasi berdasarkan metrics\n",
    "mae_train_forest_opt = mean_absolute_error(y_train, y_train_pred_forest_opt)\n",
    "mae_test_forest_opt = mean_absolute_error(y_test, y_test_pred_forest_opt)\n",
    "\n",
    "print('Random Forest Opt')\n",
    "print('MAE train = ', mae_train_forest_opt)\n",
    "print('MAE test = ', mae_test_forest_opt)"
   ]
  },
  {
   "attachments": {},
   "cell_type": "markdown",
   "metadata": {},
   "source": [
    "Dari informasi diatas dapat disimpulkan bahwa :\n",
    "\n",
    "- **Model ini memiliki performa yang lebih baik dari pada model Random Forest Baseline karena tidak memiliki kecenderungan dalam prediksi model dan memiliki MAE yang lebih baik**\n",
    "- Setelah dilakukan *validasi* dengan *cross-validation*, nilai MAE tidak berbeda jauh dengan 1x *training*. **Artinya nilai MAE pada *train-set* valid**\n",
    "- Model ini memiliki error sejumlah +- 0,12. Contohnya jika hasil prediksi nutrisi adalah 4 maka ada kemungkinan nutrisi aktualnya 4,12 atau bisa juga 3,88"
   ]
  },
  {
   "cell_type": "code",
   "execution_count": 114,
   "metadata": {},
   "outputs": [],
   "source": [
    "# Saving Model\n",
    "with open('model_opt.pkl', 'wb') as file_1:\n",
    "  pickle.dump(model_forest_opt, file_1)"
   ]
  },
  {
   "attachments": {},
   "cell_type": "markdown",
   "metadata": {},
   "source": [
    "Kesimpulan dari *notebook* ini adalah :"
   ]
  },
  {
   "attachments": {},
   "cell_type": "markdown",
   "metadata": {},
   "source": [
    "- Sebelum membuat model maka saya perlu mengetahui dan eksplorasi mengenai data yang tersedia. Hasil eksplorasi adalah sebagai berikut :\n",
    "    1. Nutrisi tanaman banyak terpusat pada nilai 4,5 - 4,7\n",
    "    2. Variabel 8 memiliki nilai nilai paling tinggi diantara variabel lainnya. Variabel 1-7 berkisar antara 300-700 sedangkan variabel 8 memiliki nilai di 3.700-5.000\n",
    "    3. Tanaman yang diuji pada Lab 1 lebih banyak dari pada lab 2 (tidak *balance*)\n",
    "    4. Lab 1 sering menguji tanaman dengan tingkat nutrisi 4.6 - 4.85\n",
    "    5. Lab 2 sering menguji tanaman dengan tingkat nutrisi 4.5 - 5\n",
    "    6. Variabel 1-7 memiliki korelasi negatif terhadap target. Variabel 6 memiliki korelasi negatif paling kuat terhadap target sedangkan Variabel 8 memiliki korelasi positif paling kuat terhadap target\n",
    "    7. *Multicolinearity* antar variabel kuat\n",
    "    8. Variabel 1 - variabel 7 saling memiliki *multicolinearity* positif sedangkan variabel 8 memiliki *multicolinearity* negatif terhadap variabel 1- variabel 7\n",
    "     "
   ]
  },
  {
   "attachments": {},
   "cell_type": "markdown",
   "metadata": {},
   "source": [
    "- Kemudian saya merancang model dan **dipilihlah Model Random Forest Parameter Tuning**. Berikut kelemahan dan kelebihan dari model :\n",
    "    \n",
    "    Kelebihan\n",
    "    1. Memiliki error yang kecil yaitu 0.12\n",
    "    2. Model ini tahan terhadap *outlier*\n",
    "    3. Model ini memiliki bias yang kecil karena sudah ada *rules* untuk regresi-nya\n",
    "\n",
    "    Kelemahan\n",
    "    1. Tidak dapat memprediksi diluar *range* data, karena menggunakan algoritma random forest\n",
    "    2. Waktu untuk *testing* dan *training* cukup lama karena menggunakan algoritma bagging\n",
    "    3. Susah diinterpretasikan mengapa model dapat memprediksi nutrisi tanaman ke angka tersebut (berbeda dari linear regression yang mudah diinterpretasikan)"
   ]
  },
  {
   "attachments": {},
   "cell_type": "markdown",
   "metadata": {},
   "source": [
    "- Untuk *continuous improvement*, saran dari saya adalah :\n",
    "    \n",
    "    Improvement Model\n",
    "    1. Karena *multicolinearity* yang kuat, maka perlu memberikan bobot terhadap *variabel* yang memberikan kontribusi besar terhadap perhitungan nutrisi. Akan tetapi bobot tersebut **adalah hasil konsultasi dengan pakar domain** \n",
    "    2. Membuat target *regresi* menjadi *categorical* agar lebih umum. Karena setelah saya lihat, nilai antar data tidak berbeda jauh. Oleh karena itu lebih baik dibuat *categorical*, agar prediksi bisa lebih akurat. Sebagai contoh, tanaman yang mempunyai nutrisi 4,9-5 dikategorikan sebagai tanaman bernutrisi/tanaman sehat dll.\n",
    "    3. Melakukan *feature selection* dengan cara konsultasi ke pakar domain. Jadi *feature* yang tidak berpengaruh lebih baik di-drop atau diberi nilai konstan agar model dapat lebih akurat\n",
    "\n",
    "    Business Insight\n",
    "    1. Tanaman yang memiliki prediksi nutrisi tinggi, bisa di-monitor lebih lanjut kemudian *treatment* pada tanaman tersebut dapat diterapkan ke tanaman lain. Dengan harapan, meningkatnya nilai nutrisi pada tanaman lain"
   ]
  }
 ],
 "metadata": {
  "kernelspec": {
   "display_name": "base",
   "language": "python",
   "name": "python3"
  },
  "language_info": {
   "codemirror_mode": {
    "name": "ipython",
    "version": 3
   },
   "file_extension": ".py",
   "mimetype": "text/x-python",
   "name": "python",
   "nbconvert_exporter": "python",
   "pygments_lexer": "ipython3",
   "version": "3.9.13"
  },
  "orig_nbformat": 4,
  "vscode": {
   "interpreter": {
    "hash": "263930470851f494f0ed2879c35b57985588df20f9e529b86e97dd5eb9ddc466"
   }
  }
 },
 "nbformat": 4,
 "nbformat_minor": 2
}
